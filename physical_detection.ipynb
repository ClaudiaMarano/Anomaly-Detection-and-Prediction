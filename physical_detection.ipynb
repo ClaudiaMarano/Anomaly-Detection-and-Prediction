{
  "nbformat": 4,
  "nbformat_minor": 0,
  "metadata": {
    "colab": {
      "provenance": [],
      "toc_visible": true,
      "include_colab_link": true
    },
    "kernelspec": {
      "name": "python3",
      "display_name": "Python 3"
    },
    "language_info": {
      "name": "python"
    }
  },
  "cells": [
    {
      "cell_type": "markdown",
      "metadata": {
        "id": "view-in-github",
        "colab_type": "text"
      },
      "source": [
        "<a href=\"https://colab.research.google.com/github/ClaudiaMarano/Anomaly-Detection-and-Prediction/blob/main/physical_detection.ipynb\" target=\"_parent\"><img src=\"https://colab.research.google.com/assets/colab-badge.svg\" alt=\"Open In Colab\"/></a>"
      ]
    },
    {
      "cell_type": "markdown",
      "source": [
        "# Physical Anomaly Detection"
      ],
      "metadata": {
        "id": "u9jQDQ_pNV2R"
      }
    },
    {
      "cell_type": "markdown",
      "source": [
        "## Import Librerie"
      ],
      "metadata": {
        "id": "xs62gvzhNhkN"
      }
    },
    {
      "cell_type": "code",
      "source": [
        "import pandas as pd\n",
        "from sklearn.preprocessing import StandardScaler\n",
        "import numpy as np\n",
        "from sklearn.metrics import classification_report\n",
        "from tensorflow.keras.models import Model\n",
        "from tensorflow.keras.layers import Input, Dense, Flatten, Reshape\n",
        "from tensorflow.keras.callbacks import Callback\n",
        "from keras.optimizers import Adam\n",
        "from keras.layers import BatchNormalization\n",
        "from keras.callbacks import EarlyStopping\n",
        "from keras.layers import LeakyReLU\n",
        "from keras.layers import Dropout"
      ],
      "metadata": {
        "id": "mtAgZvi2dUxT"
      },
      "execution_count": null,
      "outputs": []
    },
    {
      "cell_type": "markdown",
      "source": [
        "## Funzione per caricamento e segmentazione dataset\n",
        "Il dataset viene suddiviso in intervalli di un minuto in modo da addestrare la rete su intervalli di campioni senza anomalie, in modo da poter riconoscere in fase di test quando un intervallo contiene invece un'anomalia."
      ],
      "metadata": {
        "id": "l6qJ24bONtJV"
      }
    },
    {
      "cell_type": "code",
      "source": [
        "# 1.\n",
        "def dataset_load_and_segmentation(path_norm, att_paths = []):\n",
        "    # Carico il CSV con diversa codifica\n",
        "    df_norm = pd.read_csv(path_norm, sep='\\t', encoding='utf-16')\n",
        "\n",
        "    df_norm = df_norm.drop(columns=[\"Label\"])\n",
        "\n",
        "    df_norm['Time'] = pd.to_datetime(df_norm['Time'])\n",
        "\n",
        "    # Ordino per timestamp nel caso non siano già ordinati\n",
        "    df_norm = df_norm.sort_values(by='Time')\n",
        "\n",
        "    # Definisco la durata della finestra in due minuti\n",
        "    window_duration = pd.Timedelta(minutes=1)\n",
        "\n",
        "    # Lista per i segmenti\n",
        "    segments = []\n",
        "    start_time = df_norm['Time'].iloc[0]\n",
        "\n",
        "    while start_time < df_norm['Time'].iloc[-1]:\n",
        "        end_time = start_time + window_duration\n",
        "        segment = df_norm[(df_norm['Time'] >= start_time) & (df_norm['Time'] < end_time)]\n",
        "        if len(segment) > 0:\n",
        "            segments.append(segment.drop(columns=['Time']).values)\n",
        "        start_time = end_time\n",
        "\n",
        "    # print(len(segments))\n",
        "    # for seg in segments:\n",
        "    #     print(len(seg))\n",
        "\n",
        "    # Mantengo solo i segmenti che hanno lunghezza pari a 60 o 120 in base a se divido in intervalli di 2 o 1 minuti.\n",
        "    uniform_segments = [segment for segment in segments if len(segment) == 60]\n",
        "\n",
        "    # Prendo tutti gli intervalli 'normali' dai file relativi alle anomalie e li aggiungo al mio dataset di addestramento\n",
        "    # if att_paths:\n",
        "    #     for path in att_paths:\n",
        "    #         segments_from_att = load_from_att_file(path)\n",
        "    #         uniform_segments.extend(segments_from_att)\n",
        "\n",
        "    # print(\"\\n------------------------------------------------------------------------------------------------------------------------------------------------------------------------------------------------------------------------------------------------\\n\")\n",
        "    #\n",
        "    # print(len(uniform_segments))\n",
        "    # for seg in uniform_segments:\n",
        "    #     print(len(seg))\n",
        "\n",
        "    return uniform_segments"
      ],
      "metadata": {
        "id": "jlgSQdsPdbeD"
      },
      "execution_count": null,
      "outputs": []
    },
    {
      "cell_type": "markdown",
      "source": [
        "### Estrazione intervalli normali da anomalie"
      ],
      "metadata": {
        "id": "V5AgEz0QTc5N"
      }
    },
    {
      "cell_type": "markdown",
      "source": [
        "Funzione che estrae intervalli normali della stessa durata dai file che contengono anomalie. In questo modo ho un dataset più grande per l'addestramento"
      ],
      "metadata": {
        "id": "RKtKNTXCTIcz"
      }
    },
    {
      "cell_type": "code",
      "source": [
        "def load_from_att_file(path):\n",
        "    # Carico il CSV con diversa codifica\n",
        "    df_norm = pd.read_csv(path, sep='\\t', encoding='utf-16')\n",
        "\n",
        "    df_norm['Time'] = pd.to_datetime(df_norm['Time'])\n",
        "\n",
        "    # Ordino per timestamp nel caso non siano già ordinati\n",
        "    df_norm = df_norm.sort_values(by='Time')\n",
        "\n",
        "    # Definisco la durata della finestra in due minuti\n",
        "    window_duration = pd.Timedelta(minutes=1)\n",
        "\n",
        "    # Lista per i segmenti\n",
        "    segments = []\n",
        "    start_time = df_norm['Time'].iloc[0]\n",
        "\n",
        "    while start_time < df_norm['Time'].iloc[-1]:\n",
        "        end_time = start_time + window_duration\n",
        "        segment = df_norm[(df_norm['Time'] >= start_time) & (df_norm['Time'] < end_time)]\n",
        "        if len(segment) > 0:\n",
        "            segments.append(segment.drop(columns=['Time']).values)\n",
        "        start_time = end_time\n",
        "\n",
        "    # print(len(segments))\n",
        "    # for seg in segments:\n",
        "    #     print(len(seg))\n",
        "\n",
        "    # Mantengo solo i segmenti che hanno lunghezza pari a 60 o 120 in base a se divido in intervalli di 2 o 1 minuti.\n",
        "    uniform_segments = [\n",
        "        segment for segment in segments\n",
        "        if len(segment) == 60 and all(row[-1] == 'normal' for row in segment)\n",
        "    ]\n",
        "\n",
        "    # print(\"\\n------------------------------------------------------------------------------------------------------------------------------------------------------------------------------------------------------------------------------------------------\\n\")\n",
        "    #\n",
        "    # print(len(uniform_segments))\n",
        "    # for seg in uniform_segments:\n",
        "    #     print(len(seg))\n",
        "\n",
        "    # Rimuove l'ultima colonna da ogni segmento\n",
        "    clean_segments = [segment[:, :-1] for segment in uniform_segments]\n",
        "\n",
        "    return clean_segments"
      ],
      "metadata": {
        "id": "23xaimLwTi3Z"
      },
      "execution_count": null,
      "outputs": []
    },
    {
      "cell_type": "markdown",
      "source": [
        "## Funzione per il Preprocessing"
      ],
      "metadata": {
        "id": "T1CXcWg-OP5u"
      }
    },
    {
      "cell_type": "code",
      "source": [
        "# 2.\n",
        "def preprocessing(segments):\n",
        "    \"\"\"\n",
        "    1) Accorpo tutti i segmenti in un unico numpy array per poter applicare la normalizzazione.\n",
        "    2) Normalizzo.\n",
        "    3) Divido di nuovo i segmenti normalizzati nel numero originario dei segmenti in input.\n",
        "    4) Ritorno i segmenti normalizzati e lo scaler utilizzato.\n",
        "    :param segments:\n",
        "    :return:\n",
        "    \"\"\"\n",
        "    # 1)\n",
        "    segments_array = np.vstack(segments)\n",
        "\n",
        "    # print(f\"Array Unico: {segments_array}\")\n",
        "    # print(f\"Tipologia: {type(segments_array)}\")\n",
        "    # print(f\"Lunghezza: {len(segments_array)}\")\n",
        "    # print(\"\\n---------------------------------------------------------------------------------------------------------------------------------------------------------------------------\\n\")\n",
        "\n",
        "    # 2)\n",
        "    scaler = StandardScaler()\n",
        "    segments_scaled = scaler.fit_transform(segments_array)\n",
        "\n",
        "    # print(f\"Segmenti Normalizzati: {segments_scaled}\")\n",
        "    # print(f\"Tipologia: {type(segments_scaled)}\")\n",
        "    # print(f\"Lunghezza: {len(segments_scaled)}\")\n",
        "    # print(\"\\n---------------------------------------------------------------------------------------------------------------------------------------------------------------------------\\n\")\n",
        "\n",
        "    # 3)\n",
        "    segments_scaled_split = np.array_split(segments_scaled, len(segments))\n",
        "\n",
        "    # print(f\"Segmenti Normalizzati e Ricostruiti: {segments_scaled_split}\")\n",
        "    # print(f'Tipologia: {type(segments_scaled_split)}')\n",
        "    # print(f\"Lunghezza: {len(segments_scaled_split)}\")\n",
        "    # print(\"\\n---------------------------------------------------------------------------------------------------------------------------------------------------------------------------\\n\")\n",
        "\n",
        "    # 4)\n",
        "    return segments_scaled_split, scaler"
      ],
      "metadata": {
        "id": "DTRSa72mdeij"
      },
      "execution_count": null,
      "outputs": []
    },
    {
      "cell_type": "markdown",
      "source": [
        "## Funzione per il Training"
      ],
      "metadata": {
        "id": "aVvBM66XOWUT"
      }
    },
    {
      "cell_type": "code",
      "execution_count": null,
      "metadata": {
        "id": "7Td_xbCkdGzf"
      },
      "outputs": [],
      "source": [
        "# 3.\n",
        "def building_and_training(segments_scaled_split):\n",
        "    # Callback per visualizzare statistiche al termine dell'addestramento\n",
        "    class TrainingSummary(Callback):\n",
        "        def on_train_end(self, logs=None):\n",
        "            print(\"\\n--- Statistiche Finali ---\")\n",
        "            print(f\"Loss finale su training set: {logs['loss']:.4f}\")\n",
        "            if 'val_loss' in logs:\n",
        "                print(f\"Loss finale su validation set: {logs['val_loss']:.4f}\")\n",
        "\n",
        "    # Definisco l'input shape\n",
        "    input_shape = segments_scaled_split[0].shape  # Forma di un segmento\n",
        "\n",
        "    # Definisco la struttura dell'autoencoder\n",
        "    input_layer = Input(shape=input_shape)\n",
        "    x = Flatten()(input_layer)\n",
        "    x = Dense(256)(x)\n",
        "    x = LeakyReLU(alpha=0.1)(x)\n",
        "    x = BatchNormalization()(x)\n",
        "    x = Dropout(0.1)(x)  # Dropout 30%\n",
        "    x = Dense(128)(x)\n",
        "    x = LeakyReLU(alpha=0.1)(x)\n",
        "    x = BatchNormalization()(x)\n",
        "    x = Dropout(0.1)(x)  # Dropout 30%\n",
        "    encoded = Dense(64)(x)\n",
        "    encoded = LeakyReLU(alpha=0.1)(encoded)\n",
        "    x = Dense(128)(encoded)\n",
        "    x = LeakyReLU(alpha=0.1)(x)\n",
        "    x = BatchNormalization()(x)\n",
        "    x = Dropout(0.1)(x)  # Dropout 30%\n",
        "    x = Dense(256)(x)\n",
        "    x = LeakyReLU(alpha=0.1)(x)\n",
        "    x = BatchNormalization()(x)\n",
        "    x = Dropout(0.1)(x)  # Dropout 30%\n",
        "    x = Dense(np.prod(input_shape), activation=\"sigmoid\")(x)\n",
        "    x = BatchNormalization()(x)\n",
        "    decoded = Reshape(input_shape)(x)\n",
        "\n",
        "    # Creo il Modello\n",
        "    autoencoder = Model(inputs=input_layer, outputs=decoded)\n",
        "    autoencoder.compile(optimizer=Adam(learning_rate=0.001), loss=\"mse\")\n",
        "\n",
        "    early_stopping = EarlyStopping(\n",
        "        monitor=\"val_loss\", patience=10, restore_best_weights=True\n",
        "    )\n",
        "\n",
        "    # Addestramento dell'autoencoder sui dati \"normali\", senza anomalie\n",
        "    history = autoencoder.fit(\n",
        "        np.array(segments_scaled_split), np.array(segments_scaled_split),\n",
        "        epochs=500, batch_size=16, shuffle=True, validation_split=0.1,\n",
        "        callbacks=[TrainingSummary(), early_stopping]\n",
        "    )\n",
        "\n",
        "    # Stampo statistiche finali direttamente dal dizionario `history.history`\n",
        "\n",
        "    print(\"\\n--- Risultati Finali ---\")\n",
        "    print(f\"Training Loss: {history.history['loss'][-1]:.4f}\")\n",
        "    print(f\"Validation Loss: {history.history['val_loss'][-1]:.4f}\")\n",
        "\n",
        "    return autoencoder\n"
      ]
    },
    {
      "cell_type": "markdown",
      "source": [
        "## Calcolo dell'Errore di Ricostruzione"
      ],
      "metadata": {
        "id": "ktx1OP-vOZLU"
      }
    },
    {
      "cell_type": "code",
      "source": [
        "# 4.\n",
        "def get_rebuilding_error(autoencoder, segments_scaled_split):\n",
        "    # Ricostruzione dei dati di addestramento\n",
        "    reconstructed_train = autoencoder.predict(np.array(segments_scaled_split))\n",
        "    mse_train = np.mean(np.power(segments_scaled_split - reconstructed_train, 2), axis=(1, 2))\n",
        "\n",
        "    # Imposto il threshold al 95° percentile dell'errore\n",
        "    threshold = np.percentile(mse_train, 95)\n",
        "    print(\"Soglia di errore di ricostruzione:\", threshold)\n",
        "\n",
        "    return threshold"
      ],
      "metadata": {
        "id": "ConTUI9z3SjH"
      },
      "execution_count": null,
      "outputs": []
    },
    {
      "cell_type": "markdown",
      "source": [
        "## Test del modello"
      ],
      "metadata": {
        "id": "QD4wdBMbOkqW"
      }
    },
    {
      "cell_type": "code",
      "source": [
        "# 5.\n",
        "def testing(path, scaler, autoencoder, threshold):\n",
        "    # Carico il CSV con diversa codifica\n",
        "    df_anomalous = pd.read_csv(path, sep='\\t', encoding='utf-16')\n",
        "    df_anomalous = df_anomalous.drop(columns=[\"Label\"])\n",
        "\n",
        "    df_anomalous['Time'] = pd.to_datetime(df_anomalous['Time'])\n",
        "    df_anomalous = df_anomalous.sort_values(by='Time')\n",
        "\n",
        "    # Segmentazione del file di test in blocchi di tot minuti\n",
        "    test_segments = []\n",
        "    start_time = df_anomalous['Time'].iloc[0]\n",
        "\n",
        "    # Definisco la finestra di tot minuti\n",
        "    window_duration = pd.Timedelta(minutes=1)\n",
        "\n",
        "    while start_time < df_anomalous['Time'].iloc[-1]:\n",
        "        end_time = start_time + window_duration\n",
        "        segment = df_anomalous[(df_anomalous['Time'] >= start_time) & (df_anomalous['Time'] < end_time)]\n",
        "        if len(segment) > 0:\n",
        "            test_segments.append(segment.drop(columns=['Time']).values)\n",
        "        start_time = end_time\n",
        "\n",
        "    # Normalizzazione dei segmenti di test usando lo scaler già addestrato\n",
        "    test_segments_scaled = [scaler.transform(segment) for segment in test_segments]\n",
        "\n",
        "    # Mantengo solo i segmenti che hanno lunghezza pari a 60 o 120 in base a se divido in intervalli di tot minuti.\n",
        "    uniform_segments = [segment for segment in test_segments_scaled if len(segment) == 60]\n",
        "\n",
        "    for seg in uniform_segments:\n",
        "        print(seg)\n",
        "\n",
        "    # Ricostruzione e calcolo dell'errore per ogni segmento di test\n",
        "    reconstructed_test = autoencoder.predict(np.array(uniform_segments))\n",
        "    mse_test = np.mean(np.power(uniform_segments - reconstructed_test, 2), axis=(1, 2))\n",
        "\n",
        "    # Identificazione delle anomalie nei blocchi di test\n",
        "    anomalies = mse_test > threshold\n",
        "    print(\"Numero di blocchi anomali rilevati:\", np.sum(anomalies))\n",
        "    print(f\"Blocchi anomali: {anomalies}\")"
      ],
      "metadata": {
        "id": "xYe-meCk_N2h"
      },
      "execution_count": null,
      "outputs": []
    },
    {
      "cell_type": "markdown",
      "source": [
        "## Esecuzione del processo"
      ],
      "metadata": {
        "id": "lUWWcpS9Opf6"
      }
    },
    {
      "cell_type": "code",
      "source": [
        "segments = dataset_load_and_segmentation(\"phy_norm.csv\", [\"phy_att_1.csv\", \"phy_att_2.csv\"])"
      ],
      "metadata": {
        "id": "DNMmDa45d3dr",
        "colab": {
          "base_uri": "https://localhost:8080/"
        },
        "outputId": "9d8275d8-1bed-407e-f9c0-3d1a55ddb578"
      },
      "execution_count": null,
      "outputs": [
        {
          "output_type": "stream",
          "name": "stdout",
          "text": [
            "57\n",
            "57\n"
          ]
        }
      ]
    },
    {
      "cell_type": "code",
      "source": [
        "segments_scaled_split, scaler = preprocessing(segments)"
      ],
      "metadata": {
        "id": "nhna_b1bd3Nu"
      },
      "execution_count": null,
      "outputs": []
    },
    {
      "cell_type": "code",
      "source": [
        "autoencoder = building_and_training(segments_scaled_split)"
      ],
      "metadata": {
        "id": "_KeeyAizdmU1",
        "colab": {
          "base_uri": "https://localhost:8080/"
        },
        "outputId": "618293d2-cc6c-4288-fe82-402ec8da8361"
      },
      "execution_count": null,
      "outputs": [
        {
          "output_type": "stream",
          "name": "stdout",
          "text": [
            "Epoch 1/500\n",
            "\u001b[1m4/4\u001b[0m \u001b[32m━━━━━━━━━━━━━━━━━━━━\u001b[0m\u001b[37m\u001b[0m \u001b[1m6s\u001b[0m 162ms/step - loss: 1.4759 - val_loss: 0.8480\n",
            "Epoch 2/500\n",
            "\u001b[1m4/4\u001b[0m \u001b[32m━━━━━━━━━━━━━━━━━━━━\u001b[0m\u001b[37m\u001b[0m \u001b[1m0s\u001b[0m 45ms/step - loss: 1.0679 - val_loss: 0.8101\n",
            "Epoch 3/500\n",
            "\u001b[1m4/4\u001b[0m \u001b[32m━━━━━━━━━━━━━━━━━━━━\u001b[0m\u001b[37m\u001b[0m \u001b[1m0s\u001b[0m 38ms/step - loss: 0.7897 - val_loss: 0.7615\n",
            "Epoch 4/500\n",
            "\u001b[1m4/4\u001b[0m \u001b[32m━━━━━━━━━━━━━━━━━━━━\u001b[0m\u001b[37m\u001b[0m \u001b[1m0s\u001b[0m 38ms/step - loss: 0.6464 - val_loss: 0.7130\n",
            "Epoch 5/500\n",
            "\u001b[1m4/4\u001b[0m \u001b[32m━━━━━━━━━━━━━━━━━━━━\u001b[0m\u001b[37m\u001b[0m \u001b[1m0s\u001b[0m 38ms/step - loss: 0.5570 - val_loss: 0.6744\n",
            "Epoch 6/500\n",
            "\u001b[1m4/4\u001b[0m \u001b[32m━━━━━━━━━━━━━━━━━━━━\u001b[0m\u001b[37m\u001b[0m \u001b[1m0s\u001b[0m 65ms/step - loss: 0.5279 - val_loss: 0.6403\n",
            "Epoch 7/500\n",
            "\u001b[1m4/4\u001b[0m \u001b[32m━━━━━━━━━━━━━━━━━━━━\u001b[0m\u001b[37m\u001b[0m \u001b[1m0s\u001b[0m 43ms/step - loss: 0.5607 - val_loss: 0.6093\n",
            "Epoch 8/500\n",
            "\u001b[1m4/4\u001b[0m \u001b[32m━━━━━━━━━━━━━━━━━━━━\u001b[0m\u001b[37m\u001b[0m \u001b[1m0s\u001b[0m 38ms/step - loss: 0.4687 - val_loss: 0.5868\n",
            "Epoch 9/500\n",
            "\u001b[1m4/4\u001b[0m \u001b[32m━━━━━━━━━━━━━━━━━━━━\u001b[0m\u001b[37m\u001b[0m \u001b[1m0s\u001b[0m 30ms/step - loss: 0.4604 - val_loss: 0.5685\n",
            "Epoch 10/500\n",
            "\u001b[1m4/4\u001b[0m \u001b[32m━━━━━━━━━━━━━━━━━━━━\u001b[0m\u001b[37m\u001b[0m \u001b[1m0s\u001b[0m 39ms/step - loss: 0.4618 - val_loss: 0.5527\n",
            "Epoch 11/500\n",
            "\u001b[1m4/4\u001b[0m \u001b[32m━━━━━━━━━━━━━━━━━━━━\u001b[0m\u001b[37m\u001b[0m \u001b[1m0s\u001b[0m 29ms/step - loss: 0.4727 - val_loss: 0.5367\n",
            "Epoch 12/500\n",
            "\u001b[1m4/4\u001b[0m \u001b[32m━━━━━━━━━━━━━━━━━━━━\u001b[0m\u001b[37m\u001b[0m \u001b[1m0s\u001b[0m 32ms/step - loss: 0.4318 - val_loss: 0.5259\n",
            "Epoch 13/500\n",
            "\u001b[1m4/4\u001b[0m \u001b[32m━━━━━━━━━━━━━━━━━━━━\u001b[0m\u001b[37m\u001b[0m \u001b[1m0s\u001b[0m 29ms/step - loss: 0.4118 - val_loss: 0.5122\n",
            "Epoch 14/500\n",
            "\u001b[1m4/4\u001b[0m \u001b[32m━━━━━━━━━━━━━━━━━━━━\u001b[0m\u001b[37m\u001b[0m \u001b[1m0s\u001b[0m 30ms/step - loss: 0.4268 - val_loss: 0.4957\n",
            "Epoch 15/500\n",
            "\u001b[1m4/4\u001b[0m \u001b[32m━━━━━━━━━━━━━━━━━━━━\u001b[0m\u001b[37m\u001b[0m \u001b[1m0s\u001b[0m 44ms/step - loss: 0.3875 - val_loss: 0.4813\n",
            "Epoch 16/500\n",
            "\u001b[1m4/4\u001b[0m \u001b[32m━━━━━━━━━━━━━━━━━━━━\u001b[0m\u001b[37m\u001b[0m \u001b[1m0s\u001b[0m 46ms/step - loss: 0.4222 - val_loss: 0.4670\n",
            "Epoch 17/500\n",
            "\u001b[1m4/4\u001b[0m \u001b[32m━━━━━━━━━━━━━━━━━━━━\u001b[0m\u001b[37m\u001b[0m \u001b[1m0s\u001b[0m 42ms/step - loss: 0.4229 - val_loss: 0.4551\n",
            "Epoch 18/500\n",
            "\u001b[1m4/4\u001b[0m \u001b[32m━━━━━━━━━━━━━━━━━━━━\u001b[0m\u001b[37m\u001b[0m \u001b[1m0s\u001b[0m 37ms/step - loss: 0.4004 - val_loss: 0.4445\n",
            "Epoch 19/500\n",
            "\u001b[1m4/4\u001b[0m \u001b[32m━━━━━━━━━━━━━━━━━━━━\u001b[0m\u001b[37m\u001b[0m \u001b[1m0s\u001b[0m 30ms/step - loss: 0.3741 - val_loss: 0.4336\n",
            "Epoch 20/500\n",
            "\u001b[1m4/4\u001b[0m \u001b[32m━━━━━━━━━━━━━━━━━━━━\u001b[0m\u001b[37m\u001b[0m \u001b[1m0s\u001b[0m 36ms/step - loss: 0.3841 - val_loss: 0.4229\n",
            "Epoch 21/500\n",
            "\u001b[1m4/4\u001b[0m \u001b[32m━━━━━━━━━━━━━━━━━━━━\u001b[0m\u001b[37m\u001b[0m \u001b[1m0s\u001b[0m 33ms/step - loss: 0.3964 - val_loss: 0.4111\n",
            "Epoch 22/500\n",
            "\u001b[1m4/4\u001b[0m \u001b[32m━━━━━━━━━━━━━━━━━━━━\u001b[0m\u001b[37m\u001b[0m \u001b[1m0s\u001b[0m 27ms/step - loss: 0.3640 - val_loss: 0.3985\n",
            "Epoch 23/500\n",
            "\u001b[1m4/4\u001b[0m \u001b[32m━━━━━━━━━━━━━━━━━━━━\u001b[0m\u001b[37m\u001b[0m \u001b[1m0s\u001b[0m 32ms/step - loss: 0.3912 - val_loss: 0.3903\n",
            "Epoch 24/500\n",
            "\u001b[1m4/4\u001b[0m \u001b[32m━━━━━━━━━━━━━━━━━━━━\u001b[0m\u001b[37m\u001b[0m \u001b[1m0s\u001b[0m 30ms/step - loss: 0.3493 - val_loss: 0.3825\n",
            "Epoch 25/500\n",
            "\u001b[1m4/4\u001b[0m \u001b[32m━━━━━━━━━━━━━━━━━━━━\u001b[0m\u001b[37m\u001b[0m \u001b[1m0s\u001b[0m 31ms/step - loss: 0.3400 - val_loss: 0.3743\n",
            "Epoch 26/500\n",
            "\u001b[1m4/4\u001b[0m \u001b[32m━━━━━━━━━━━━━━━━━━━━\u001b[0m\u001b[37m\u001b[0m \u001b[1m0s\u001b[0m 37ms/step - loss: 0.3542 - val_loss: 0.3665\n",
            "Epoch 27/500\n",
            "\u001b[1m4/4\u001b[0m \u001b[32m━━━━━━━━━━━━━━━━━━━━\u001b[0m\u001b[37m\u001b[0m \u001b[1m0s\u001b[0m 40ms/step - loss: 0.3343 - val_loss: 0.3540\n",
            "Epoch 28/500\n",
            "\u001b[1m4/4\u001b[0m \u001b[32m━━━━━━━━━━━━━━━━━━━━\u001b[0m\u001b[37m\u001b[0m \u001b[1m0s\u001b[0m 29ms/step - loss: 0.3453 - val_loss: 0.3409\n",
            "Epoch 29/500\n",
            "\u001b[1m4/4\u001b[0m \u001b[32m━━━━━━━━━━━━━━━━━━━━\u001b[0m\u001b[37m\u001b[0m \u001b[1m0s\u001b[0m 31ms/step - loss: 0.3500 - val_loss: 0.3301\n",
            "Epoch 30/500\n",
            "\u001b[1m4/4\u001b[0m \u001b[32m━━━━━━━━━━━━━━━━━━━━\u001b[0m\u001b[37m\u001b[0m \u001b[1m0s\u001b[0m 34ms/step - loss: 0.3235 - val_loss: 0.3224\n",
            "Epoch 31/500\n",
            "\u001b[1m4/4\u001b[0m \u001b[32m━━━━━━━━━━━━━━━━━━━━\u001b[0m\u001b[37m\u001b[0m \u001b[1m0s\u001b[0m 33ms/step - loss: 0.3209 - val_loss: 0.3132\n",
            "Epoch 32/500\n",
            "\u001b[1m4/4\u001b[0m \u001b[32m━━━━━━━━━━━━━━━━━━━━\u001b[0m\u001b[37m\u001b[0m \u001b[1m0s\u001b[0m 34ms/step - loss: 0.3299 - val_loss: 0.3000\n",
            "Epoch 33/500\n",
            "\u001b[1m4/4\u001b[0m \u001b[32m━━━━━━━━━━━━━━━━━━━━\u001b[0m\u001b[37m\u001b[0m \u001b[1m0s\u001b[0m 34ms/step - loss: 0.3090 - val_loss: 0.2909\n",
            "Epoch 34/500\n",
            "\u001b[1m4/4\u001b[0m \u001b[32m━━━━━━━━━━━━━━━━━━━━\u001b[0m\u001b[37m\u001b[0m \u001b[1m0s\u001b[0m 32ms/step - loss: 0.3082 - val_loss: 0.2859\n",
            "Epoch 35/500\n",
            "\u001b[1m4/4\u001b[0m \u001b[32m━━━━━━━━━━━━━━━━━━━━\u001b[0m\u001b[37m\u001b[0m \u001b[1m0s\u001b[0m 38ms/step - loss: 0.3183 - val_loss: 0.2834\n",
            "Epoch 36/500\n",
            "\u001b[1m4/4\u001b[0m \u001b[32m━━━━━━━━━━━━━━━━━━━━\u001b[0m\u001b[37m\u001b[0m \u001b[1m0s\u001b[0m 40ms/step - loss: 0.2859 - val_loss: 0.2801\n",
            "Epoch 37/500\n",
            "\u001b[1m4/4\u001b[0m \u001b[32m━━━━━━━━━━━━━━━━━━━━\u001b[0m\u001b[37m\u001b[0m \u001b[1m0s\u001b[0m 38ms/step - loss: 0.3112 - val_loss: 0.2708\n",
            "Epoch 38/500\n",
            "\u001b[1m4/4\u001b[0m \u001b[32m━━━━━━━━━━━━━━━━━━━━\u001b[0m\u001b[37m\u001b[0m \u001b[1m0s\u001b[0m 39ms/step - loss: 0.3030 - val_loss: 0.2622\n",
            "Epoch 39/500\n",
            "\u001b[1m4/4\u001b[0m \u001b[32m━━━━━━━━━━━━━━━━━━━━\u001b[0m\u001b[37m\u001b[0m \u001b[1m0s\u001b[0m 41ms/step - loss: 0.2720 - val_loss: 0.2485\n",
            "Epoch 40/500\n",
            "\u001b[1m4/4\u001b[0m \u001b[32m━━━━━━━━━━━━━━━━━━━━\u001b[0m\u001b[37m\u001b[0m \u001b[1m0s\u001b[0m 46ms/step - loss: 0.2777 - val_loss: 0.2393\n",
            "Epoch 41/500\n",
            "\u001b[1m4/4\u001b[0m \u001b[32m━━━━━━━━━━━━━━━━━━━━\u001b[0m\u001b[37m\u001b[0m \u001b[1m0s\u001b[0m 44ms/step - loss: 0.3038 - val_loss: 0.2289\n",
            "Epoch 42/500\n",
            "\u001b[1m4/4\u001b[0m \u001b[32m━━━━━━━━━━━━━━━━━━━━\u001b[0m\u001b[37m\u001b[0m \u001b[1m0s\u001b[0m 37ms/step - loss: 0.2859 - val_loss: 0.2207\n",
            "Epoch 43/500\n",
            "\u001b[1m4/4\u001b[0m \u001b[32m━━━━━━━━━━━━━━━━━━━━\u001b[0m\u001b[37m\u001b[0m \u001b[1m0s\u001b[0m 39ms/step - loss: 0.3166 - val_loss: 0.2197\n",
            "Epoch 44/500\n",
            "\u001b[1m4/4\u001b[0m \u001b[32m━━━━━━━━━━━━━━━━━━━━\u001b[0m\u001b[37m\u001b[0m \u001b[1m0s\u001b[0m 35ms/step - loss: 0.2640 - val_loss: 0.2202\n",
            "Epoch 45/500\n",
            "\u001b[1m4/4\u001b[0m \u001b[32m━━━━━━━━━━━━━━━━━━━━\u001b[0m\u001b[37m\u001b[0m \u001b[1m0s\u001b[0m 32ms/step - loss: 0.2844 - val_loss: 0.2170\n",
            "Epoch 46/500\n",
            "\u001b[1m4/4\u001b[0m \u001b[32m━━━━━━━━━━━━━━━━━━━━\u001b[0m\u001b[37m\u001b[0m \u001b[1m0s\u001b[0m 29ms/step - loss: 0.2697 - val_loss: 0.2175\n",
            "Epoch 47/500\n",
            "\u001b[1m4/4\u001b[0m \u001b[32m━━━━━━━━━━━━━━━━━━━━\u001b[0m\u001b[37m\u001b[0m \u001b[1m0s\u001b[0m 28ms/step - loss: 0.2672 - val_loss: 0.2150\n",
            "Epoch 48/500\n",
            "\u001b[1m4/4\u001b[0m \u001b[32m━━━━━━━━━━━━━━━━━━━━\u001b[0m\u001b[37m\u001b[0m \u001b[1m0s\u001b[0m 42ms/step - loss: 0.2509 - val_loss: 0.2098\n",
            "Epoch 49/500\n",
            "\u001b[1m4/4\u001b[0m \u001b[32m━━━━━━━━━━━━━━━━━━━━\u001b[0m\u001b[37m\u001b[0m \u001b[1m0s\u001b[0m 48ms/step - loss: 0.2794 - val_loss: 0.2041\n",
            "Epoch 50/500\n",
            "\u001b[1m4/4\u001b[0m \u001b[32m━━━━━━━━━━━━━━━━━━━━\u001b[0m\u001b[37m\u001b[0m \u001b[1m0s\u001b[0m 41ms/step - loss: 0.2599 - val_loss: 0.1961\n",
            "Epoch 51/500\n",
            "\u001b[1m4/4\u001b[0m \u001b[32m━━━━━━━━━━━━━━━━━━━━\u001b[0m\u001b[37m\u001b[0m \u001b[1m0s\u001b[0m 48ms/step - loss: 0.2697 - val_loss: 0.1893\n",
            "Epoch 52/500\n",
            "\u001b[1m4/4\u001b[0m \u001b[32m━━━━━━━━━━━━━━━━━━━━\u001b[0m\u001b[37m\u001b[0m \u001b[1m0s\u001b[0m 46ms/step - loss: 0.2537 - val_loss: 0.1858\n",
            "Epoch 53/500\n",
            "\u001b[1m4/4\u001b[0m \u001b[32m━━━━━━━━━━━━━━━━━━━━\u001b[0m\u001b[37m\u001b[0m \u001b[1m0s\u001b[0m 69ms/step - loss: 0.2757 - val_loss: 0.1823\n",
            "Epoch 54/500\n",
            "\u001b[1m4/4\u001b[0m \u001b[32m━━━━━━━━━━━━━━━━━━━━\u001b[0m\u001b[37m\u001b[0m \u001b[1m0s\u001b[0m 67ms/step - loss: 0.2645 - val_loss: 0.1786\n",
            "Epoch 55/500\n",
            "\u001b[1m4/4\u001b[0m \u001b[32m━━━━━━━━━━━━━━━━━━━━\u001b[0m\u001b[37m\u001b[0m \u001b[1m0s\u001b[0m 62ms/step - loss: 0.2221 - val_loss: 0.1747\n",
            "Epoch 56/500\n",
            "\u001b[1m4/4\u001b[0m \u001b[32m━━━━━━━━━━━━━━━━━━━━\u001b[0m\u001b[37m\u001b[0m \u001b[1m0s\u001b[0m 62ms/step - loss: 0.2641 - val_loss: 0.1703\n",
            "Epoch 57/500\n",
            "\u001b[1m4/4\u001b[0m \u001b[32m━━━━━━━━━━━━━━━━━━━━\u001b[0m\u001b[37m\u001b[0m \u001b[1m0s\u001b[0m 53ms/step - loss: 0.2320 - val_loss: 0.1658\n",
            "Epoch 58/500\n",
            "\u001b[1m4/4\u001b[0m \u001b[32m━━━━━━━━━━━━━━━━━━━━\u001b[0m\u001b[37m\u001b[0m \u001b[1m0s\u001b[0m 87ms/step - loss: 0.2182 - val_loss: 0.1608\n",
            "Epoch 59/500\n",
            "\u001b[1m4/4\u001b[0m \u001b[32m━━━━━━━━━━━━━━━━━━━━\u001b[0m\u001b[37m\u001b[0m \u001b[1m1s\u001b[0m 97ms/step - loss: 0.2897 - val_loss: 0.1565\n",
            "Epoch 60/500\n",
            "\u001b[1m4/4\u001b[0m \u001b[32m━━━━━━━━━━━━━━━━━━━━\u001b[0m\u001b[37m\u001b[0m \u001b[1m0s\u001b[0m 52ms/step - loss: 0.2803 - val_loss: 0.1574\n",
            "Epoch 61/500\n",
            "\u001b[1m4/4\u001b[0m \u001b[32m━━━━━━━━━━━━━━━━━━━━\u001b[0m\u001b[37m\u001b[0m \u001b[1m0s\u001b[0m 39ms/step - loss: 0.2306 - val_loss: 0.1616\n",
            "Epoch 62/500\n",
            "\u001b[1m4/4\u001b[0m \u001b[32m━━━━━━━━━━━━━━━━━━━━\u001b[0m\u001b[37m\u001b[0m \u001b[1m0s\u001b[0m 29ms/step - loss: 0.2159 - val_loss: 0.1637\n",
            "Epoch 63/500\n",
            "\u001b[1m4/4\u001b[0m \u001b[32m━━━━━━━━━━━━━━━━━━━━\u001b[0m\u001b[37m\u001b[0m \u001b[1m0s\u001b[0m 32ms/step - loss: 0.2536 - val_loss: 0.1639\n",
            "Epoch 64/500\n",
            "\u001b[1m4/4\u001b[0m \u001b[32m━━━━━━━━━━━━━━━━━━━━\u001b[0m\u001b[37m\u001b[0m \u001b[1m0s\u001b[0m 30ms/step - loss: 0.2186 - val_loss: 0.1628\n",
            "Epoch 65/500\n",
            "\u001b[1m4/4\u001b[0m \u001b[32m━━━━━━━━━━━━━━━━━━━━\u001b[0m\u001b[37m\u001b[0m \u001b[1m0s\u001b[0m 37ms/step - loss: 0.2183 - val_loss: 0.1587\n",
            "Epoch 66/500\n",
            "\u001b[1m4/4\u001b[0m \u001b[32m━━━━━━━━━━━━━━━━━━━━\u001b[0m\u001b[37m\u001b[0m \u001b[1m0s\u001b[0m 31ms/step - loss: 0.2246 - val_loss: 0.1560\n",
            "Epoch 67/500\n",
            "\u001b[1m4/4\u001b[0m \u001b[32m━━━━━━━━━━━━━━━━━━━━\u001b[0m\u001b[37m\u001b[0m \u001b[1m0s\u001b[0m 33ms/step - loss: 0.2470 - val_loss: 0.1540\n",
            "Epoch 68/500\n",
            "\u001b[1m4/4\u001b[0m \u001b[32m━━━━━━━━━━━━━━━━━━━━\u001b[0m\u001b[37m\u001b[0m \u001b[1m0s\u001b[0m 35ms/step - loss: 0.2110 - val_loss: 0.1550\n",
            "Epoch 69/500\n",
            "\u001b[1m4/4\u001b[0m \u001b[32m━━━━━━━━━━━━━━━━━━━━\u001b[0m\u001b[37m\u001b[0m \u001b[1m0s\u001b[0m 31ms/step - loss: 0.1988 - val_loss: 0.1515\n",
            "Epoch 70/500\n",
            "\u001b[1m4/4\u001b[0m \u001b[32m━━━━━━━━━━━━━━━━━━━━\u001b[0m\u001b[37m\u001b[0m \u001b[1m0s\u001b[0m 31ms/step - loss: 0.1956 - val_loss: 0.1450\n",
            "Epoch 71/500\n",
            "\u001b[1m4/4\u001b[0m \u001b[32m━━━━━━━━━━━━━━━━━━━━\u001b[0m\u001b[37m\u001b[0m \u001b[1m0s\u001b[0m 37ms/step - loss: 0.2097 - val_loss: 0.1416\n",
            "Epoch 72/500\n",
            "\u001b[1m4/4\u001b[0m \u001b[32m━━━━━━━━━━━━━━━━━━━━\u001b[0m\u001b[37m\u001b[0m \u001b[1m0s\u001b[0m 32ms/step - loss: 0.2174 - val_loss: 0.1400\n",
            "Epoch 73/500\n",
            "\u001b[1m4/4\u001b[0m \u001b[32m━━━━━━━━━━━━━━━━━━━━\u001b[0m\u001b[37m\u001b[0m \u001b[1m0s\u001b[0m 37ms/step - loss: 0.2191 - val_loss: 0.1360\n",
            "Epoch 74/500\n",
            "\u001b[1m4/4\u001b[0m \u001b[32m━━━━━━━━━━━━━━━━━━━━\u001b[0m\u001b[37m\u001b[0m \u001b[1m0s\u001b[0m 32ms/step - loss: 0.2346 - val_loss: 0.1316\n",
            "Epoch 75/500\n",
            "\u001b[1m4/4\u001b[0m \u001b[32m━━━━━━━━━━━━━━━━━━━━\u001b[0m\u001b[37m\u001b[0m \u001b[1m0s\u001b[0m 27ms/step - loss: 0.2294 - val_loss: 0.1304\n",
            "Epoch 76/500\n",
            "\u001b[1m4/4\u001b[0m \u001b[32m━━━━━━━━━━━━━━━━━━━━\u001b[0m\u001b[37m\u001b[0m \u001b[1m0s\u001b[0m 25ms/step - loss: 0.2059 - val_loss: 0.1333\n",
            "Epoch 77/500\n",
            "\u001b[1m4/4\u001b[0m \u001b[32m━━━━━━━━━━━━━━━━━━━━\u001b[0m\u001b[37m\u001b[0m \u001b[1m0s\u001b[0m 29ms/step - loss: 0.2170 - val_loss: 0.1385\n",
            "Epoch 78/500\n",
            "\u001b[1m4/4\u001b[0m \u001b[32m━━━━━━━━━━━━━━━━━━━━\u001b[0m\u001b[37m\u001b[0m \u001b[1m0s\u001b[0m 34ms/step - loss: 0.1953 - val_loss: 0.1386\n",
            "Epoch 79/500\n",
            "\u001b[1m4/4\u001b[0m \u001b[32m━━━━━━━━━━━━━━━━━━━━\u001b[0m\u001b[37m\u001b[0m \u001b[1m0s\u001b[0m 36ms/step - loss: 0.2088 - val_loss: 0.1329\n",
            "Epoch 80/500\n",
            "\u001b[1m4/4\u001b[0m \u001b[32m━━━━━━━━━━━━━━━━━━━━\u001b[0m\u001b[37m\u001b[0m \u001b[1m0s\u001b[0m 40ms/step - loss: 0.2145 - val_loss: 0.1309\n",
            "Epoch 81/500\n",
            "\u001b[1m4/4\u001b[0m \u001b[32m━━━━━━━━━━━━━━━━━━━━\u001b[0m\u001b[37m\u001b[0m \u001b[1m0s\u001b[0m 37ms/step - loss: 0.2175 - val_loss: 0.1302\n",
            "Epoch 82/500\n",
            "\u001b[1m4/4\u001b[0m \u001b[32m━━━━━━━━━━━━━━━━━━━━\u001b[0m\u001b[37m\u001b[0m \u001b[1m0s\u001b[0m 43ms/step - loss: 0.1813 - val_loss: 0.1309\n",
            "Epoch 83/500\n",
            "\u001b[1m4/4\u001b[0m \u001b[32m━━━━━━━━━━━━━━━━━━━━\u001b[0m\u001b[37m\u001b[0m \u001b[1m0s\u001b[0m 40ms/step - loss: 0.1662 - val_loss: 0.1297\n",
            "Epoch 84/500\n",
            "\u001b[1m4/4\u001b[0m \u001b[32m━━━━━━━━━━━━━━━━━━━━\u001b[0m\u001b[37m\u001b[0m \u001b[1m0s\u001b[0m 49ms/step - loss: 0.2138 - val_loss: 0.1318\n",
            "Epoch 85/500\n",
            "\u001b[1m4/4\u001b[0m \u001b[32m━━━━━━━━━━━━━━━━━━━━\u001b[0m\u001b[37m\u001b[0m \u001b[1m0s\u001b[0m 34ms/step - loss: 0.2023 - val_loss: 0.1448\n",
            "Epoch 86/500\n",
            "\u001b[1m4/4\u001b[0m \u001b[32m━━━━━━━━━━━━━━━━━━━━\u001b[0m\u001b[37m\u001b[0m \u001b[1m0s\u001b[0m 40ms/step - loss: 0.1645 - val_loss: 0.1464\n",
            "Epoch 87/500\n",
            "\u001b[1m4/4\u001b[0m \u001b[32m━━━━━━━━━━━━━━━━━━━━\u001b[0m\u001b[37m\u001b[0m \u001b[1m0s\u001b[0m 42ms/step - loss: 0.2038 - val_loss: 0.1392\n",
            "Epoch 88/500\n",
            "\u001b[1m4/4\u001b[0m \u001b[32m━━━━━━━━━━━━━━━━━━━━\u001b[0m\u001b[37m\u001b[0m \u001b[1m0s\u001b[0m 48ms/step - loss: 0.1873 - val_loss: 0.1363\n",
            "Epoch 89/500\n",
            "\u001b[1m4/4\u001b[0m \u001b[32m━━━━━━━━━━━━━━━━━━━━\u001b[0m\u001b[37m\u001b[0m \u001b[1m0s\u001b[0m 50ms/step - loss: 0.2243 - val_loss: 0.1325\n",
            "Epoch 90/500\n",
            "\u001b[1m4/4\u001b[0m \u001b[32m━━━━━━━━━━━━━━━━━━━━\u001b[0m\u001b[37m\u001b[0m \u001b[1m0s\u001b[0m 30ms/step - loss: 0.1767 - val_loss: 0.1297\n",
            "Epoch 91/500\n",
            "\u001b[1m4/4\u001b[0m \u001b[32m━━━━━━━━━━━━━━━━━━━━\u001b[0m\u001b[37m\u001b[0m \u001b[1m0s\u001b[0m 30ms/step - loss: 0.2280 - val_loss: 0.1333\n",
            "Epoch 92/500\n",
            "\u001b[1m4/4\u001b[0m \u001b[32m━━━━━━━━━━━━━━━━━━━━\u001b[0m\u001b[37m\u001b[0m \u001b[1m0s\u001b[0m 34ms/step - loss: 0.1653 - val_loss: 0.1342\n",
            "Epoch 93/500\n",
            "\u001b[1m4/4\u001b[0m \u001b[32m━━━━━━━━━━━━━━━━━━━━\u001b[0m\u001b[37m\u001b[0m \u001b[1m0s\u001b[0m 36ms/step - loss: 0.1558 - val_loss: 0.1327\n",
            "Epoch 94/500\n",
            "\u001b[1m4/4\u001b[0m \u001b[32m━━━━━━━━━━━━━━━━━━━━\u001b[0m\u001b[37m\u001b[0m \u001b[1m0s\u001b[0m 34ms/step - loss: 0.1877 - val_loss: 0.1329\n",
            "Epoch 95/500\n",
            "\u001b[1m4/4\u001b[0m \u001b[32m━━━━━━━━━━━━━━━━━━━━\u001b[0m\u001b[37m\u001b[0m \u001b[1m0s\u001b[0m 39ms/step - loss: 0.1776 - val_loss: 0.1335\n",
            "Epoch 96/500\n",
            "\u001b[1m4/4\u001b[0m \u001b[32m━━━━━━━━━━━━━━━━━━━━\u001b[0m\u001b[37m\u001b[0m \u001b[1m0s\u001b[0m 38ms/step - loss: 0.1444 - val_loss: 0.1329\n",
            "Epoch 97/500\n",
            "\u001b[1m4/4\u001b[0m \u001b[32m━━━━━━━━━━━━━━━━━━━━\u001b[0m\u001b[37m\u001b[0m \u001b[1m0s\u001b[0m 42ms/step - loss: 0.1803 - val_loss: 0.1303\n",
            "Epoch 98/500\n",
            "\u001b[1m4/4\u001b[0m \u001b[32m━━━━━━━━━━━━━━━━━━━━\u001b[0m\u001b[37m\u001b[0m \u001b[1m0s\u001b[0m 40ms/step - loss: 0.1548 - val_loss: 0.1262\n",
            "Epoch 99/500\n",
            "\u001b[1m4/4\u001b[0m \u001b[32m━━━━━━━━━━━━━━━━━━━━\u001b[0m\u001b[37m\u001b[0m \u001b[1m0s\u001b[0m 39ms/step - loss: 0.1657 - val_loss: 0.1247\n",
            "Epoch 100/500\n",
            "\u001b[1m4/4\u001b[0m \u001b[32m━━━━━━━━━━━━━━━━━━━━\u001b[0m\u001b[37m\u001b[0m \u001b[1m0s\u001b[0m 39ms/step - loss: 0.1363 - val_loss: 0.1261\n",
            "Epoch 101/500\n",
            "\u001b[1m4/4\u001b[0m \u001b[32m━━━━━━━━━━━━━━━━━━━━\u001b[0m\u001b[37m\u001b[0m \u001b[1m0s\u001b[0m 58ms/step - loss: 0.1515 - val_loss: 0.1290\n",
            "Epoch 102/500\n",
            "\u001b[1m4/4\u001b[0m \u001b[32m━━━━━━━━━━━━━━━━━━━━\u001b[0m\u001b[37m\u001b[0m \u001b[1m0s\u001b[0m 80ms/step - loss: 0.1483 - val_loss: 0.1309\n",
            "Epoch 103/500\n",
            "\u001b[1m4/4\u001b[0m \u001b[32m━━━━━━━━━━━━━━━━━━━━\u001b[0m\u001b[37m\u001b[0m \u001b[1m0s\u001b[0m 36ms/step - loss: 0.1465 - val_loss: 0.1306\n",
            "Epoch 104/500\n",
            "\u001b[1m4/4\u001b[0m \u001b[32m━━━━━━━━━━━━━━━━━━━━\u001b[0m\u001b[37m\u001b[0m \u001b[1m0s\u001b[0m 39ms/step - loss: 0.2306 - val_loss: 0.1307\n",
            "Epoch 105/500\n",
            "\u001b[1m4/4\u001b[0m \u001b[32m━━━━━━━━━━━━━━━━━━━━\u001b[0m\u001b[37m\u001b[0m \u001b[1m0s\u001b[0m 39ms/step - loss: 0.1515 - val_loss: 0.1348\n",
            "Epoch 106/500\n",
            "\u001b[1m4/4\u001b[0m \u001b[32m━━━━━━━━━━━━━━━━━━━━\u001b[0m\u001b[37m\u001b[0m \u001b[1m0s\u001b[0m 54ms/step - loss: 0.1858 - val_loss: 0.1362\n",
            "Epoch 107/500\n",
            "\u001b[1m4/4\u001b[0m \u001b[32m━━━━━━━━━━━━━━━━━━━━\u001b[0m\u001b[37m\u001b[0m \u001b[1m0s\u001b[0m 37ms/step - loss: 0.1484 - val_loss: 0.1369\n",
            "Epoch 108/500\n",
            "\u001b[1m4/4\u001b[0m \u001b[32m━━━━━━━━━━━━━━━━━━━━\u001b[0m\u001b[37m\u001b[0m \u001b[1m0s\u001b[0m 44ms/step - loss: 0.1653 - val_loss: 0.1362\n",
            "Epoch 109/500\n",
            "\u001b[1m4/4\u001b[0m \u001b[32m━━━━━━━━━━━━━━━━━━━━\u001b[0m\u001b[37m\u001b[0m \u001b[1m0s\u001b[0m 47ms/step - loss: 0.1474 - val_loss: 0.1350\n",
            "\n",
            "--- Statistiche Finali ---\n",
            "Loss finale su training set: 0.1598\n",
            "Loss finale su validation set: 0.1350\n",
            "\n",
            "--- Risultati Finali ---\n",
            "Training Loss: 0.1598\n",
            "Validation Loss: 0.1350\n"
          ]
        }
      ]
    },
    {
      "cell_type": "code",
      "source": [
        "threshols = get_rebuilding_error(autoencoder, segments_scaled_split)"
      ],
      "metadata": {
        "id": "dDSj0Y0S-9Ri",
        "colab": {
          "base_uri": "https://localhost:8080/"
        },
        "outputId": "1d1d7586-a543-484e-d296-33fb1abda073"
      },
      "execution_count": null,
      "outputs": [
        {
          "output_type": "stream",
          "name": "stderr",
          "text": [
            "WARNING:tensorflow:5 out of the last 9 calls to <function TensorFlowTrainer.make_predict_function.<locals>.one_step_on_data_distributed at 0x7d55a56353f0> triggered tf.function retracing. Tracing is expensive and the excessive number of tracings could be due to (1) creating @tf.function repeatedly in a loop, (2) passing tensors with different shapes, (3) passing Python objects instead of tensors. For (1), please define your @tf.function outside of the loop. For (2), @tf.function has reduce_retracing=True option that can avoid unnecessary retracing. For (3), please refer to https://www.tensorflow.org/guide/function#controlling_retracing and https://www.tensorflow.org/api_docs/python/tf/function for  more details.\n"
          ]
        },
        {
          "output_type": "stream",
          "name": "stdout",
          "text": [
            "\r\u001b[1m1/2\u001b[0m \u001b[32m━━━━━━━━━━\u001b[0m\u001b[37m━━━━━━━━━━\u001b[0m \u001b[1m0s\u001b[0m 200ms/step"
          ]
        },
        {
          "output_type": "stream",
          "name": "stderr",
          "text": [
            "WARNING:tensorflow:6 out of the last 10 calls to <function TensorFlowTrainer.make_predict_function.<locals>.one_step_on_data_distributed at 0x7d55a56353f0> triggered tf.function retracing. Tracing is expensive and the excessive number of tracings could be due to (1) creating @tf.function repeatedly in a loop, (2) passing tensors with different shapes, (3) passing Python objects instead of tensors. For (1), please define your @tf.function outside of the loop. For (2), @tf.function has reduce_retracing=True option that can avoid unnecessary retracing. For (3), please refer to https://www.tensorflow.org/guide/function#controlling_retracing and https://www.tensorflow.org/api_docs/python/tf/function for  more details.\n"
          ]
        },
        {
          "output_type": "stream",
          "name": "stdout",
          "text": [
            "\u001b[1m2/2\u001b[0m \u001b[32m━━━━━━━━━━━━━━━━━━━━\u001b[0m\u001b[37m\u001b[0m \u001b[1m0s\u001b[0m 183ms/step\n",
            "Soglia di errore di ricostruzione: 0.12967185166456438\n"
          ]
        }
      ]
    },
    {
      "cell_type": "code",
      "source": [
        "testing(\"phy_att_3.csv\", scaler, autoencoder, threshols)"
      ],
      "metadata": {
        "colab": {
          "base_uri": "https://localhost:8080/"
        },
        "id": "ZFa0kfI8_Ubp",
        "outputId": "594d97f2-ce74-401a-e0a5-845118ac221a"
      },
      "execution_count": null,
      "outputs": [
        {
          "output_type": "stream",
          "name": "stdout",
          "text": [
            "[[-1.07374237 -1.12949751 -1.28165638 ...  0.         -1.04180893\n",
            "   0.        ]\n",
            " [-1.07374237 -1.12949751 -1.28165638 ...  0.         -1.04180893\n",
            "   0.        ]\n",
            " [-1.07374237 -1.12949751 -1.28165638 ...  0.         -1.04180893\n",
            "   0.        ]\n",
            " ...\n",
            " [ 1.55041057  0.74633671 -1.28165638 ...  0.         -1.04180893\n",
            "   0.        ]\n",
            " [ 1.59867085  0.76177568 -1.28165638 ...  0.         -1.04180893\n",
            "   0.        ]\n",
            " [ 1.6408986   0.7957414  -1.28165638 ...  0.         -1.04180893\n",
            "   0.        ]]\n",
            "[[ 1.68614262  0.84514609 -1.28165638 ...  0.         -1.04180893\n",
            "   0.        ]\n",
            " [ 1.71932156  0.87293623 -1.28165638 ...  0.         -1.04180893\n",
            "   0.        ]\n",
            " [ 1.77059811  0.90535805 -1.28165638 ...  0.         -1.04180893\n",
            "   0.        ]\n",
            " ...\n",
            " [ 1.95157418  1.45961689 -0.18218347 ...  0.         -1.04180893\n",
            "   0.        ]\n",
            " [ 1.89426509  1.43954623 -0.16293199 ...  0.         -1.04180893\n",
            "   0.        ]\n",
            " [ 1.9078383   1.42410727 -0.14154147 ...  0.         -1.04180893\n",
            "   0.        ]]\n",
            "[[ 1.88220002  1.39786103 -0.11587284 ...  0.         -1.04180893\n",
            "   0.        ]\n",
            " [ 1.85957801  1.38087817 -0.09662137 ...  0.         -1.04180893\n",
            "   0.        ]\n",
            " [ 1.83393974  1.35463193 -0.07523085 ...  0.         -1.04180893\n",
            "   0.        ]\n",
            " ...\n",
            " [ 0.61084317  0.26309712  0.94937524 ...  0.         -1.04180893\n",
            "   0.        ]\n",
            " [ 0.58671302  0.23993867  0.96862671 ...  0.         -1.04180893\n",
            "   0.        ]\n",
            " [ 0.56710728  0.22295581  0.98573913 ...  0.         -1.04180893\n",
            "   0.        ]]\n",
            "[[ 0.54448528  0.19979736  0.99643439 ...  0.         -1.04180893\n",
            "   0.        ]\n",
            " [ 0.52638767  0.1828145   1.01140775 ...  0.         -1.04180893\n",
            "   0.        ]\n",
            " [ 0.50074939  0.16119995  1.03065922 ...  0.         -1.04180893\n",
            "   0.        ]\n",
            " ...\n",
            " [-0.5896314  -1.02142476  1.74082461 ...  0.         -1.04180893\n",
            "   1.        ]\n",
            " [-0.5896314  -1.02142476  1.74082461 ...  0.         -1.04180893\n",
            "   1.        ]\n",
            " [-0.5896314  -1.02142476  1.74082461 ...  0.         -1.04180893\n",
            "   1.        ]]\n",
            "[[-0.5896314  -1.02142476  1.74082461 ...  0.         -1.04180893\n",
            "   1.        ]\n",
            " [-0.5896314  -1.02142476  1.74082461 ...  0.         -1.04180893\n",
            "   1.        ]\n",
            " [-0.96214046 -1.12486582  1.55472705 ...  0.         -1.04180893\n",
            "   1.        ]\n",
            " ...\n",
            " [-1.0707261  -1.12177803 -0.14795863 ...  0.         -1.04180893\n",
            "   0.        ]\n",
            " [-1.06921797 -1.12332193 -0.18432252 ...  0.         -1.04180893\n",
            "   0.        ]\n",
            " [-1.06921797 -1.12332193 -0.20785209 ...  0.         -1.04180893\n",
            "   0.        ]]\n",
            "[[-1.06921797 -1.12332193 -0.23352072 ...  0.         -1.04180893\n",
            "   0.        ]\n",
            " [-1.06921797 -1.12177803 -0.26988461 ...  0.         -1.04180893\n",
            "   0.        ]\n",
            " [-1.0707261  -1.12177803 -0.29341419 ...  0.         -1.04180893\n",
            "   0.        ]\n",
            " ...\n",
            " [-0.09345535  0.12260254 -1.27523922 ...  0.         -1.04180893\n",
            "   0.        ]\n",
            " [-0.01804866  0.1797267  -1.27310017 ...  0.         -1.04180893\n",
            "   0.        ]\n",
            " [ 0.01513029  0.20288515 -1.27310017 ...  0.         -1.04180893\n",
            "   0.        ]]\n",
            "[[ 0.04529296  0.27236049 -1.27310017 ...  0.         -1.04180893\n",
            "   0.        ]\n",
            " [ 0.09204511  0.28471167 -1.27523922 ...  0.         -1.04180893\n",
            "   0.        ]\n",
            " [ 0.12371593  0.30015063 -1.27096112 ...  0.         -1.04180893\n",
            "   0.        ]\n",
            " ...\n",
            " [ 1.61526033  1.69274526 -0.54368331 ...  0.         -1.04180893\n",
            "   0.        ]\n",
            " [ 1.59263832  1.6726746  -0.49020701 ...  0.         -1.04180893\n",
            "   0.        ]\n",
            " [ 1.56850818  1.64797226 -0.43245259 ...  0.         -1.04180893\n",
            "   0.        ]]\n",
            "[[ 1.54890243  1.62790161 -0.41106207 ...  0.         -1.04180893\n",
            "   0.        ]\n",
            " [ 1.52326416  1.60474316 -0.38539344 ...  0.         -1.04180893\n",
            "   0.        ]\n",
            " [ 1.50365842  1.5877603  -0.36186386 ...  0.         -1.04180893\n",
            "   0.        ]\n",
            " ...\n",
            " [ 0.30620012  0.47924262  0.66060317 ...  0.          0.9598689\n",
            "   1.        ]\n",
            " [ 0.28961065  0.46380366  0.67557653 ...  0.          0.9598689\n",
            "   1.        ]\n",
            " [ 0.26698864  0.44064521  0.694828   ...  0.          0.9598689\n",
            "   1.        ]]\n",
            "[[ 0.2473829   0.42366235  0.70552327 ...  0.          0.9598689\n",
            "   1.        ]\n",
            " [ 0.22325276  0.4005039   0.72477474 ...  0.          0.9598689\n",
            "   1.        ]\n",
            " [ 0.20515515  0.38352104  0.73333095 ...  0.          0.9598689\n",
            "   1.        ]\n",
            " ...\n",
            " [-1.07374237 -0.75741846  1.53333653 ...  0.          0.9598689\n",
            "   0.        ]\n",
            " [-1.07374237 -0.7852086   1.5483099  ...  0.          0.9598689\n",
            "   0.        ]\n",
            " [-1.07374237 -0.81917432  1.56970042 ...  0.          0.9598689\n",
            "   0.        ]]\n",
            "[[-1.07374237 -0.84696446  1.57825663 ...  0.          0.9598689\n",
            "   0.        ]\n",
            " [-1.07374237 -0.88710576  1.59109094 ...  0.          0.9598689\n",
            "   0.        ]\n",
            " [-1.07374237 -0.92107149  1.60178621 ...  0.          0.9598689\n",
            "   0.        ]\n",
            " ...\n",
            " [-1.06921797 -1.12177803  0.05525135 ...  0.         -1.04180893\n",
            "   0.        ]\n",
            " [-1.0707261  -1.12332193  0.02744367 ...  0.         -1.04180893\n",
            "   0.        ]\n",
            " [-1.06921797 -1.12332193 -0.00892022 ...  0.         -1.04180893\n",
            "   0.        ]]\n",
            "[[-1.0707261  -1.12332193 -0.0324498  ...  0.         -1.04180893\n",
            "   0.        ]\n",
            " [-1.06921797 -1.12332193 -0.05811843 ...  0.         -1.04180893\n",
            "   0.        ]\n",
            " [-1.06921797 -1.12332193 -0.09448232 ...  0.         -1.04180893\n",
            "   0.        ]\n",
            " ...\n",
            " [-1.06921797 -0.10126245 -1.26454396 ...  0.         -1.04180893\n",
            "   0.        ]\n",
            " [-1.06770983 -0.05957725 -1.26454396 ...  0.         -1.04180893\n",
            "   0.        ]\n",
            " [-1.06921797 -0.04413829 -1.26454396 ...  0.         -1.04180893\n",
            "   0.        ]]\n",
            "[[-1.06921797  0.00372251 -1.26668301 ...  0.         -1.04180893\n",
            "   0.        ]\n",
            " [-1.06770983  0.0052664  -1.26882207 ...  0.         -1.04180893\n",
            "   0.        ]\n",
            " [-1.06921797  0.05775888 -1.26454396 ...  0.         -1.04180893\n",
            "   0.        ]\n",
            " ...\n",
            " [ 0.60028623  1.81008139 -0.93299084 ...  0.         -1.04180893\n",
            "   1.        ]\n",
            " [ 0.62743264  1.79155463 -0.8495678  ...  0.         -1.04180893\n",
            "   1.        ]\n",
            " [ 0.66362785  1.76994008 -0.79181339 ...  0.         -1.04180893\n",
            "   1.        ]]\n",
            "[[ 0.65156278  1.74678163 -0.72764182 ...  0.         -1.04180893\n",
            "   1.        ]\n",
            " [ 0.68775799  1.72979877 -0.68058267 ...  0.         -1.04180893\n",
            "   1.        ]\n",
            " [ 0.7058556   1.70200864 -0.6206892  ...  0.         -1.04180893\n",
            "   1.        ]\n",
            " ...\n",
            " [ 1.7298785   0.58885927  0.54937244 ...  0.          0.9598689\n",
            "   0.        ]\n",
            " [ 1.70273209  0.56724472  0.57076297 ...  0.          0.9598689\n",
            "   0.        ]\n",
            " [ 1.68161822  0.55180576  0.58787539 ...  0.          0.9598689\n",
            "   0.        ]]\n",
            "[[1.65899621 0.52710341 0.6007097  ... 0.         0.9598689  0.        ]\n",
            " [1.6318498  0.51166445 0.61782212 ... 0.         0.9598689  0.        ]\n",
            " [1.61224406 0.4900499  0.63493454 ... 0.         0.9598689  0.        ]\n",
            " ...\n",
            " [1.24275126 0.17200722 0.88734272 ... 0.         0.9598689  1.        ]\n",
            " [1.24275126 0.17200722 0.88734272 ... 0.         0.9598689  1.        ]\n",
            " [1.24275126 0.17200722 0.88734272 ... 0.         0.9598689  1.        ]]\n",
            "[[ 1.24275126  0.17200722  0.88734272 ...  0.          0.9598689\n",
            "   1.        ]\n",
            " [ 1.24275126  0.17200722  0.88734272 ...  0.          0.9598689\n",
            "   1.        ]\n",
            " [ 1.24275126  0.17200722  0.88734272 ...  0.          0.9598689\n",
            "   1.        ]\n",
            " ...\n",
            " [-1.07223423 -1.12640972  0.21568027 ...  0.          0.9598689\n",
            "   0.        ]\n",
            " [-1.07374237 -1.12486582  0.18787259 ...  0.          0.9598689\n",
            "   0.        ]\n",
            " [-1.07374237 -1.12486582  0.15364776 ...  0.          0.9598689\n",
            "   0.        ]]\n",
            "[[-1.07374237 -1.12332193  0.12797913 ...  0.          0.9598689\n",
            "   0.        ]\n",
            " [-1.07374237 -1.12640972  0.09803239 ...  0.          0.9598689\n",
            "   0.        ]\n",
            " [-1.07374237 -1.12486582  0.06380756 ...  0.          0.9598689\n",
            "   0.        ]\n",
            " ...\n",
            " [-1.0707261  -0.29579341 -1.26668301 ...  0.         -1.04180893\n",
            "   1.        ]\n",
            " [-1.06921797 -0.25256431 -1.26668301 ...  0.         -1.04180893\n",
            "   1.        ]\n",
            " [-1.06921797 -0.22014248 -1.26882207 ...  0.         -1.04180893\n",
            "   1.        ]]\n",
            "[[-1.06770983 -0.18463286 -1.26668301 ...  0.         -1.04180893\n",
            "   1.        ]\n",
            " [-1.06770983 -0.14449156 -1.26668301 ...  0.         -1.04180893\n",
            "   1.        ]\n",
            " [-1.0707261  -0.10280635 -1.26668301 ...  0.         -1.04180893\n",
            "   1.        ]\n",
            " ...\n",
            " [-0.29102089  1.84404711 -1.26668301 ...  0.         -1.04180893\n",
            "   1.        ]\n",
            " [-0.25180941  1.8517666  -1.24101438 ...  0.         -1.04180893\n",
            "   0.        ]\n",
            " [-0.20656539  1.86566166 -1.2581268  ...  0.         -1.04180893\n",
            "   0.        ]]\n",
            "[[-0.15679697  1.8486788  -1.09341977 ...  0.         -1.04180893\n",
            "   0.        ]\n",
            " [-0.09345535  1.83169594 -1.00144052 ...  0.         -1.04180893\n",
            "   0.        ]\n",
            " [-0.05575201  1.81008139 -0.92657369 ...  0.         -1.04180893\n",
            "   0.        ]\n",
            " ...\n",
            " [ 1.72686223  0.68766865  0.4659494  ...  0.         -1.04180893\n",
            "   0.        ]\n",
            " [ 1.69519142  0.6645102   0.48733992 ...  0.         -1.04180893\n",
            "   0.        ]\n",
            " [ 1.67709381  0.64907124  0.50231329 ...  0.         -1.04180893\n",
            "   0.        ]]\n",
            "[[ 1.65145554  0.62591279  0.52370381 ...  0.         -1.04180893\n",
            "   0.        ]\n",
            " [ 1.6318498   0.61047382  0.53653813 ...  0.         -1.04180893\n",
            "   0.        ]\n",
            " [ 1.60621152  0.58422758  0.55365055 ...  0.         -1.04180893\n",
            "   0.        ]\n",
            " ...\n",
            " [ 0.40422883 -0.50421944  1.39002002 ...  0.          0.9598689\n",
            "   0.        ]\n",
            " [ 0.38160682 -0.53046568  1.40927149 ...  0.          0.9598689\n",
            "   0.        ]\n",
            " [ 0.36200108 -0.55208023  1.42210581 ...  0.          0.9598689\n",
            "   0.        ]]\n",
            "[[ 0.33787094 -0.57678257  1.43707917 ...  0.          0.9598689\n",
            "   0.        ]\n",
            " [ 0.31977333 -0.59685323  1.45205254 ...  0.          0.9598689\n",
            "   0.        ]\n",
            " [ 0.29564319 -0.62464336  1.46702591 ...  0.          0.9598689\n",
            "   0.        ]\n",
            " ...\n",
            " [-1.07374237 -1.12486582  0.36113584 ...  0.          0.9598689\n",
            "   0.        ]\n",
            " [-1.07374237 -1.12332193  0.32477195 ...  0.          0.9598689\n",
            "   0.        ]\n",
            " [-1.07374237 -1.12332193  0.29696426 ...  0.          0.9598689\n",
            "   0.        ]]\n",
            "\u001b[1m1/1\u001b[0m \u001b[32m━━━━━━━━━━━━━━━━━━━━\u001b[0m\u001b[37m\u001b[0m \u001b[1m0s\u001b[0m 49ms/step\n",
            "Numero di blocchi anomali rilevati: 19\n",
            "Blocchi anomali: [False  True  True  True  True  True  True  True  True  True  True  True\n",
            "  True  True  True  True  True  True  True  True]\n"
          ]
        }
      ]
    },
    {
      "cell_type": "markdown",
      "source": [
        "# Time series Anomaly Detection"
      ],
      "metadata": {
        "id": "r6AAX-KW3XVM"
      }
    },
    {
      "cell_type": "markdown",
      "source": [
        "In questa sezione, ci occupiamo di sviluppare un modello in grado di effettuare la detection di anomalie per Time Series."
      ],
      "metadata": {
        "id": "9EiprKlG39GU"
      }
    },
    {
      "cell_type": "markdown",
      "source": [
        "## Setup"
      ],
      "metadata": {
        "id": "B2_Ch9qC46-O"
      }
    },
    {
      "cell_type": "code",
      "source": [
        "import pandas as pd\n",
        "import matplotlib.pyplot as plt"
      ],
      "metadata": {
        "id": "2i3a7QZu4_Pg"
      },
      "execution_count": 1,
      "outputs": []
    },
    {
      "cell_type": "markdown",
      "source": [
        "## Data Preprocessing"
      ],
      "metadata": {
        "id": "hIDf_tn13igk"
      }
    },
    {
      "cell_type": "markdown",
      "source": [
        "### Preprocessing dati di rete"
      ],
      "metadata": {
        "id": "d_T6pDKd-_73"
      }
    },
    {
      "cell_type": "markdown",
      "source": [
        "Creazione di una funzione che preprocessa il dataset, effettua un resampling e opzionalmente genera plot delle feature.\n",
        "I dati di acquisizione di rete presentano un campionamento all'ordine dei microsendi. Viene effettuato il campionamento del dataset all'ordine dei secondi: i dati corrispondenti ad ogni secondo vengono aggregati.\n",
        "\n",
        "  Parametri:\n",
        "- file_path (str): Percorso al file CSV da preprocessare.\n",
        "- output_path (str): Percorso dove salvare il file preprocessato e resamplato.\n",
        "- time_column (str): Nome della colonna temporale.\n",
        "- resample_interval (str): Intervallo di resampling (es. '30s', '1min').\n",
        "- plot_data (bool): Se True, genera i plot delle feature resamplate.\n",
        "- label (str): Etichetta per identificare il dataset nei grafici.\n",
        "    "
      ],
      "metadata": {
        "id": "K4qg5WHc_flM"
      }
    },
    {
      "cell_type": "code",
      "source": [
        "def preprocess_and_resample(file_path, output_path, time_column='Time', resample_interval='1s', plot_data=True, label=\"Dataset\"):\n",
        "    # Carica il dataset\n",
        "    df = pd.read_csv(file_path)\n",
        "    df.columns = df.columns.str.strip()\n",
        "\n",
        "    # Controlla se la colonna temporale esiste\n",
        "    if time_column not in df.columns:\n",
        "        raise ValueError(f\"La colonna temporale '{time_column}' non è presente nel dataset.\")\n",
        "\n",
        "    # Converte la colonna temporale in datetime\n",
        "    df[time_column] = pd.to_datetime(df[time_column], errors='coerce')\n",
        "\n",
        "    # Preprocessing: Mantiene solo le feature rilevanti, inclusa `label_n`\n",
        "    relevant_features = [\n",
        "        time_column, 'ip_s', 'ip_d', 'sport', 'dport', 'proto', 'flags',\n",
        "        'size', 'modbus_fn', 'n_pkt_src', 'n_pkt_dst', 'modbus_response', 'label_n'\n",
        "    ]\n",
        "    relevant_features = [col for col in relevant_features if col in df.columns]  # Filtra solo le colonne presenti\n",
        "    df = df[relevant_features]\n",
        "\n",
        "    # Resampling\n",
        "    df_resampled = df.set_index(time_column).resample(resample_interval).agg({\n",
        "        'ip_s': 'nunique',  # Numero unico di IP sorgente\n",
        "        'ip_d': 'nunique',  # Numero unico di IP destinazione\n",
        "        'sport': 'nunique',  # Numero unico di porte sorgente\n",
        "        'dport': 'nunique',  # Numero unico di porte destinazione\n",
        "        'proto': 'nunique',  # Numero unico di protocolli\n",
        "        'flags': 'nunique',  # Numero unico di flags\n",
        "        'size': ['mean', 'sum', 'std'],  # Statistiche sulla dimensione\n",
        "        'modbus_fn': 'count',  # Conteggio richieste Modbus\n",
        "        'n_pkt_src': 'sum',  # Totale pacchetti inviati\n",
        "        'n_pkt_dst': 'sum',  # Totale pacchetti ricevuti\n",
        "        'modbus_response': 'count',  # Conteggio risposte Modbus\n",
        "        'label_n': 'max'  # Se almeno un dato ha label_n=1, assegna 1\n",
        "    }).fillna(0)\n",
        "\n",
        "    # Rinomina le colonne\n",
        "    df_resampled.columns = [\n",
        "        'unique_ip_src_count', 'unique_ip_dst_count', 'unique_sport_count', 'unique_dport_count',\n",
        "        'unique_proto_count', 'unique_flags_count', 'size_mean', 'size_sum', 'size_std',\n",
        "        'modbus_request_count', 'total_packets_sent', 'total_packets_received', 'modbus_response_count',\n",
        "        'label_n'\n",
        "    ]\n",
        "\n",
        "    # Salva il dataset preprocessato\n",
        "    df_resampled.to_csv(output_path)\n",
        "    print(f\"Dataset resample salvato in: {output_path}\")\n",
        "\n",
        "    # Genera i plot se richiesto\n",
        "    if plot_data:\n",
        "        for column in df_resampled.columns:\n",
        "            if column != 'label_n':  # Non plottare `label_n`\n",
        "                plt.figure(figsize=(12, 6))\n",
        "                plt.plot(df_resampled.index, df_resampled[column], label=f\"{label}: {column}\")\n",
        "                plt.title(f\"{column} nel tempo ({resample_interval})\")\n",
        "                plt.xlabel(\"Time\")\n",
        "                plt.ylabel(column)\n",
        "                plt.legend()\n",
        "                plt.grid()\n",
        "                plt.show()\n",
        "    return df_resampled"
      ],
      "metadata": {
        "id": "z7_GCN0l_ayo"
      },
      "execution_count": 2,
      "outputs": []
    },
    {
      "cell_type": "markdown",
      "source": [
        "### Preprocessing dati del processo fisico"
      ],
      "metadata": {
        "id": "VImM-gpi_G6d"
      }
    },
    {
      "cell_type": "markdown",
      "source": [
        "Creazione di una funzione che effettua il preprocessing del dataset fisico: converte la colonna temporale in datetime e rimuove la colonna label.\n",
        "\n",
        "Parametri:\n",
        "- file_path (str): Percorso al file CSV da preprocessare.\n",
        "- output_path (str): Percorso dove salvare il file preprocessato.\n",
        "- time_column (str): Nome della colonna temporale.\n",
        "- delimiter (str): Delimitatore del file CSV (di default '\\t' per tab).\n",
        "- encoding (str): Codifica del file CSV (di default 'utf-16').\n",
        "    "
      ],
      "metadata": {
        "id": "WPPpy7ocMHVm"
      }
    },
    {
      "cell_type": "code",
      "source": [
        "import pandas as pd\n",
        "\n",
        "def preprocess_physical_data(file_path, output_path, time_column='Time', delimiter='\\t', encoding='utf-16'):\n",
        "\n",
        "    # Carica il dataset fisico con la codifica e delimitatore corretti\n",
        "    df = pd.read_csv(file_path, sep=delimiter, encoding=encoding)\n",
        "    df.columns = df.columns.str.strip()  # Rimuove spazi extra dai nomi delle colonne\n",
        "\n",
        "    # Controlla se la colonna temporale esiste\n",
        "    if time_column not in df.columns:\n",
        "        raise ValueError(f\"La colonna temporale '{time_column}' non è presente nel dataset.\")\n",
        "\n",
        "    # Converte la colonna temporale in datetime (specificando dayfirst=True per il formato giorno/mese/anno)\n",
        "    df[time_column] = pd.to_datetime(df[time_column], errors='coerce', dayfirst=True)\n",
        "\n",
        "    # Rimuove solo la colonna `Label` (mantiene `label_n`)\n",
        "    df.drop(columns=['Label'], inplace=True, errors='ignore')\n",
        "\n",
        "    # Salva il dataset preprocessato\n",
        "    df.to_csv(output_path, index=False)\n",
        "    print(f\"Dataset fisico preprocessato salvato in: {output_path}\")\n",
        "\n",
        "    return df"
      ],
      "metadata": {
        "id": "F_q_Uzw8MDlk"
      },
      "execution_count": 3,
      "outputs": []
    }
  ]
}