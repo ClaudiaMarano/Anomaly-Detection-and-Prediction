{
  "nbformat": 4,
  "nbformat_minor": 0,
  "metadata": {
    "colab": {
      "provenance": [],
      "authorship_tag": "ABX9TyNuNausiiglAYR5ywB3R/GK",
      "include_colab_link": true
    },
    "kernelspec": {
      "name": "python3",
      "display_name": "Python 3"
    },
    "language_info": {
      "name": "python"
    }
  },
  "cells": [
    {
      "cell_type": "markdown",
      "metadata": {
        "id": "view-in-github",
        "colab_type": "text"
      },
      "source": [
        "<a href=\"https://colab.research.google.com/github/ClaudiaMarano/Anomaly-Detection-and-Prediction/blob/main/physical_detection.ipynb\" target=\"_parent\"><img src=\"https://colab.research.google.com/assets/colab-badge.svg\" alt=\"Open In Colab\"/></a>"
      ]
    },
    {
      "cell_type": "markdown",
      "source": [
        "# Physical Anomaly Detection"
      ],
      "metadata": {
        "id": "u9jQDQ_pNV2R"
      }
    },
    {
      "cell_type": "markdown",
      "source": [
        "## Import Librerie"
      ],
      "metadata": {
        "id": "xs62gvzhNhkN"
      }
    },
    {
      "cell_type": "code",
      "source": [
        "import pandas as pd\n",
        "from sklearn.preprocessing import StandardScaler\n",
        "import numpy as np\n",
        "from sklearn.metrics import classification_report\n",
        "from tensorflow.keras.models import Model\n",
        "from tensorflow.keras.layers import Input, Dense, Flatten, Reshape\n",
        "from tensorflow.keras.callbacks import Callback\n",
        "from keras.optimizers import Adam\n",
        "from keras.layers import BatchNormalization\n",
        "from keras.callbacks import EarlyStopping"
      ],
      "metadata": {
        "id": "mtAgZvi2dUxT"
      },
      "execution_count": 126,
      "outputs": []
    },
    {
      "cell_type": "markdown",
      "source": [
        "## Funzione per caricamento e segmentazione dataset\n",
        "Il dataset viene suddiviso in intervalli di un minuto in modo da addestrare la rete su intervalli di campioni senza anomalie, in modo da poter riconoscere in fase di test quando un intervallo contiene invece un'anomalia."
      ],
      "metadata": {
        "id": "l6qJ24bONtJV"
      }
    },
    {
      "cell_type": "code",
      "source": [
        "# 1.\n",
        "def dataset_load_and_segmentation(path_norm, att_paths = []):\n",
        "    # Carico il CSV con diversa codifica\n",
        "    df_norm = pd.read_csv(path_norm, sep='\\t', encoding='utf-16')\n",
        "\n",
        "    df_norm = df_norm.drop(columns=[\"Label\"])\n",
        "\n",
        "    df_norm['Time'] = pd.to_datetime(df_norm['Time'])\n",
        "\n",
        "    # Ordino per timestamp nel caso non siano già ordinati\n",
        "    df_norm = df_norm.sort_values(by='Time')\n",
        "\n",
        "    # Definisco la durata della finestra in due minuti\n",
        "    window_duration = pd.Timedelta(minutes=1)\n",
        "\n",
        "    # Lista per i segmenti\n",
        "    segments = []\n",
        "    start_time = df_norm['Time'].iloc[0]\n",
        "\n",
        "    while start_time < df_norm['Time'].iloc[-1]:\n",
        "        end_time = start_time + window_duration\n",
        "        segment = df_norm[(df_norm['Time'] >= start_time) & (df_norm['Time'] < end_time)]\n",
        "        if len(segment) > 0:\n",
        "            segments.append(segment.drop(columns=['Time']).values)\n",
        "        start_time = end_time\n",
        "\n",
        "    # print(len(segments))\n",
        "    # for seg in segments:\n",
        "    #     print(len(seg))\n",
        "\n",
        "    # Mantengo solo i segmenti che hanno lunghezza pari a 60 o 120 in base a se divido in intervalli di 2 o 1 minuti.\n",
        "    uniform_segments = [segment for segment in segments if len(segment) == 60]\n",
        "\n",
        "    print(len(uniform_segments))\n",
        "\n",
        "    # Prendo tutti gli intervalli 'normali' dai file relativi alle anomalie e li aggiungo al mio dataset di addestramento\n",
        "    if att_paths:\n",
        "        for path in att_paths:\n",
        "            segments_from_att = load_from_att_file(path)\n",
        "            uniform_segments.extend(segments_from_att)\n",
        "\n",
        "    print(len(uniform_segments))\n",
        "\n",
        "    # print(\"\\n------------------------------------------------------------------------------------------------------------------------------------------------------------------------------------------------------------------------------------------------\\n\")\n",
        "    #\n",
        "    # print(len(uniform_segments))\n",
        "    # for seg in uniform_segments:\n",
        "    #     print(len(seg))\n",
        "\n",
        "    return uniform_segments"
      ],
      "metadata": {
        "id": "jlgSQdsPdbeD"
      },
      "execution_count": 57,
      "outputs": []
    },
    {
      "cell_type": "markdown",
      "source": [
        "### Estrazione intervalli normali da anomalie"
      ],
      "metadata": {
        "id": "V5AgEz0QTc5N"
      }
    },
    {
      "cell_type": "markdown",
      "source": [
        "Funzione che estrae intervalli normali della stessa durata dai file che contengono anomalie. In questo modo ho un dataset più grande per l'addestramento"
      ],
      "metadata": {
        "id": "RKtKNTXCTIcz"
      }
    },
    {
      "cell_type": "code",
      "source": [
        "def load_from_att_file(path):\n",
        "    # Carico il CSV con diversa codifica\n",
        "    df_norm = pd.read_csv(path, sep='\\t', encoding='utf-16')\n",
        "\n",
        "    df_norm['Time'] = pd.to_datetime(df_norm['Time'])\n",
        "\n",
        "    # Ordino per timestamp nel caso non siano già ordinati\n",
        "    df_norm = df_norm.sort_values(by='Time')\n",
        "\n",
        "    # Definisco la durata della finestra in due minuti\n",
        "    window_duration = pd.Timedelta(minutes=1)\n",
        "\n",
        "    # Lista per i segmenti\n",
        "    segments = []\n",
        "    start_time = df_norm['Time'].iloc[0]\n",
        "\n",
        "    while start_time < df_norm['Time'].iloc[-1]:\n",
        "        end_time = start_time + window_duration\n",
        "        segment = df_norm[(df_norm['Time'] >= start_time) & (df_norm['Time'] < end_time)]\n",
        "        if len(segment) > 0:\n",
        "            segments.append(segment.drop(columns=['Time']).values)\n",
        "        start_time = end_time\n",
        "\n",
        "    # print(len(segments))\n",
        "    # for seg in segments:\n",
        "    #     print(len(seg))\n",
        "\n",
        "    # Mantengo solo i segmenti che hanno lunghezza pari a 60 o 120 in base a se divido in intervalli di 2 o 1 minuti.\n",
        "    uniform_segments = [\n",
        "        segment for segment in segments\n",
        "        if len(segment) == 60 and all(row[-1] == 'normal' for row in segment)\n",
        "    ]\n",
        "\n",
        "    # print(\"\\n------------------------------------------------------------------------------------------------------------------------------------------------------------------------------------------------------------------------------------------------\\n\")\n",
        "    #\n",
        "    # print(len(uniform_segments))\n",
        "    # for seg in uniform_segments:\n",
        "    #     print(len(seg))\n",
        "\n",
        "    # Rimuove l'ultima colonna da ogni segmento\n",
        "    clean_segments = [segment[:, :-1] for segment in uniform_segments]\n",
        "\n",
        "    return clean_segments"
      ],
      "metadata": {
        "id": "23xaimLwTi3Z"
      },
      "execution_count": 58,
      "outputs": []
    },
    {
      "cell_type": "markdown",
      "source": [
        "## Funzione per il Preprocessing"
      ],
      "metadata": {
        "id": "T1CXcWg-OP5u"
      }
    },
    {
      "cell_type": "code",
      "source": [
        "# 2.\n",
        "def preprocessing(segments):\n",
        "    \"\"\"\n",
        "    1) Accorpo tutti i segmenti in un unico numpy array per poter applicare la normalizzazione.\n",
        "    2) Normalizzo.\n",
        "    3) Divido di nuovo i segmenti normalizzati nel numero originario dei segmenti in input.\n",
        "    4) Ritorno i segmenti normalizzati e lo scaler utilizzato.\n",
        "    :param segments:\n",
        "    :return:\n",
        "    \"\"\"\n",
        "    # 1)\n",
        "    segments_array = np.vstack(segments)\n",
        "\n",
        "    # print(f\"Array Unico: {segments_array}\")\n",
        "    # print(f\"Tipologia: {type(segments_array)}\")\n",
        "    # print(f\"Lunghezza: {len(segments_array)}\")\n",
        "    # print(\"\\n---------------------------------------------------------------------------------------------------------------------------------------------------------------------------\\n\")\n",
        "\n",
        "    # 2)\n",
        "    scaler = StandardScaler()\n",
        "    segments_scaled = scaler.fit_transform(segments_array)\n",
        "\n",
        "    # print(f\"Segmenti Normalizzati: {segments_scaled}\")\n",
        "    # print(f\"Tipologia: {type(segments_scaled)}\")\n",
        "    # print(f\"Lunghezza: {len(segments_scaled)}\")\n",
        "    # print(\"\\n---------------------------------------------------------------------------------------------------------------------------------------------------------------------------\\n\")\n",
        "\n",
        "    # 3)\n",
        "    segments_scaled_split = np.array_split(segments_scaled, len(segments))\n",
        "\n",
        "    # print(f\"Segmenti Normalizzati e Ricostruiti: {segments_scaled_split}\")\n",
        "    # print(f'Tipologia: {type(segments_scaled_split)}')\n",
        "    # print(f\"Lunghezza: {len(segments_scaled_split)}\")\n",
        "    # print(\"\\n---------------------------------------------------------------------------------------------------------------------------------------------------------------------------\\n\")\n",
        "\n",
        "    # 4)\n",
        "    return segments_scaled_split, scaler"
      ],
      "metadata": {
        "id": "DTRSa72mdeij"
      },
      "execution_count": 59,
      "outputs": []
    },
    {
      "cell_type": "markdown",
      "source": [
        "## Funzione per il Training"
      ],
      "metadata": {
        "id": "aVvBM66XOWUT"
      }
    },
    {
      "cell_type": "code",
      "execution_count": 135,
      "metadata": {
        "id": "7Td_xbCkdGzf"
      },
      "outputs": [],
      "source": [
        "# 3.\n",
        "def building_and_training(segments_scaled_split):\n",
        "    # Callback per visualizzare statistiche al termine dell'addestramento\n",
        "    class TrainingSummary(Callback):\n",
        "        def on_train_end(self, logs=None):\n",
        "            print(\"\\n--- Statistiche Finali ---\")\n",
        "            print(f\"Loss finale su training set: {logs['loss']:.4f}\")\n",
        "            if 'val_loss' in logs:\n",
        "                print(f\"Loss finale su validation set: {logs['val_loss']:.4f}\")\n",
        "\n",
        "    # Definisco l'input shape\n",
        "    input_shape = segments_scaled_split[0].shape  # Forma di un segmento\n",
        "\n",
        "    # Definisco la struttura dell'autoencoder\n",
        "    input_layer = Input(shape=input_shape)\n",
        "    x = Flatten()(input_layer)\n",
        "    x = Dense(128, activation=\"relu\")(x)\n",
        "    x = BatchNormalization()(x)\n",
        "    x = Dense(64, activation=\"relu\")(x)\n",
        "    x = BatchNormalization()(x)\n",
        "    encoded = Dense(32, activation=\"relu\")(x)\n",
        "    x = Dense(64, activation=\"relu\")(x)\n",
        "    x = BatchNormalization()(x)\n",
        "    x = Dense(128, activation=\"relu\")(x)\n",
        "    x = BatchNormalization()(x)\n",
        "    x = Dense(np.prod(input_shape), activation=\"sigmoid\")(x)\n",
        "    x = BatchNormalization()(x)\n",
        "    decoded = Reshape(input_shape)(x)\n",
        "\n",
        "    # Creo il Modello\n",
        "    autoencoder = Model(inputs=input_layer, outputs=decoded)\n",
        "    autoencoder.compile(optimizer=Adam(learning_rate=0.001), loss=\"mse\")\n",
        "\n",
        "    early_stopping = EarlyStopping(\n",
        "        monitor=\"val_loss\", patience=10, restore_best_weights=True\n",
        "    )\n",
        "\n",
        "    # Addestramento dell'autoencoder sui dati \"normali\", senza anomalie\n",
        "    history = autoencoder.fit(\n",
        "        np.array(segments_scaled_split), np.array(segments_scaled_split),\n",
        "        epochs=500, batch_size=16, shuffle=True, validation_split=0.1,\n",
        "        callbacks=[TrainingSummary(), early_stopping]\n",
        "    )\n",
        "\n",
        "    # Stampo statistiche finali direttamente dal dizionario `history.history`\n",
        "    final_loss = history.history['loss'][-1]\n",
        "    final_val_loss = history.history['val_loss'][-1]\n",
        "\n",
        "    print(\"\\n--- Risultati Finali ---\")\n",
        "    print(f\"Training Loss: {final_loss:.4f}\")\n",
        "    print(f\"Validation Loss: {final_val_loss:.4f}\")\n",
        "\n",
        "    return autoencoder\n"
      ]
    },
    {
      "cell_type": "markdown",
      "source": [
        "## Calcolo dell'Errore di Ricostruzione"
      ],
      "metadata": {
        "id": "ktx1OP-vOZLU"
      }
    },
    {
      "cell_type": "code",
      "source": [
        "# 4.\n",
        "def get_rebuilding_error(autoencoder, segments_scaled_split):\n",
        "    # Ricostruzione dei dati di addestramento\n",
        "    reconstructed_train = autoencoder.predict(np.array(segments_scaled_split))\n",
        "    mse_train = np.mean(np.power(segments_scaled_split - reconstructed_train, 2), axis=(1, 2))\n",
        "\n",
        "    # Imposto il threshold al 95° percentile dell'errore\n",
        "    threshold = np.percentile(mse_train, 95)\n",
        "    print(\"Soglia di errore di ricostruzione:\", threshold)\n",
        "\n",
        "    return threshold"
      ],
      "metadata": {
        "id": "ConTUI9z3SjH"
      },
      "execution_count": 61,
      "outputs": []
    },
    {
      "cell_type": "markdown",
      "source": [
        "## Test del modello"
      ],
      "metadata": {
        "id": "QD4wdBMbOkqW"
      }
    },
    {
      "cell_type": "code",
      "source": [
        "# 5.\n",
        "def testing(path, scaler, autoencoder, threshold):\n",
        "    # Carico il CSV con diversa codifica\n",
        "    df_anomalous = pd.read_csv(path, sep='\\t', encoding='utf-16')\n",
        "    df_anomalous = df_anomalous.drop(columns=[\"Label\"])\n",
        "\n",
        "    df_anomalous['Time'] = pd.to_datetime(df_anomalous['Time'])\n",
        "    df_anomalous = df_anomalous.sort_values(by='Time')\n",
        "\n",
        "    # Segmentazione del file di test in blocchi di tot minuti\n",
        "    test_segments = []\n",
        "    start_time = df_anomalous['Time'].iloc[0]\n",
        "\n",
        "    # Definisco la finestra di tot minuti\n",
        "    window_duration = pd.Timedelta(minutes=1)\n",
        "\n",
        "    while start_time < df_anomalous['Time'].iloc[-1]:\n",
        "        end_time = start_time + window_duration\n",
        "        segment = df_anomalous[(df_anomalous['Time'] >= start_time) & (df_anomalous['Time'] < end_time)]\n",
        "        if len(segment) > 0:\n",
        "            test_segments.append(segment.drop(columns=['Time']).values)\n",
        "        start_time = end_time\n",
        "\n",
        "    # Normalizzazione dei segmenti di test usando lo scaler già addestrato\n",
        "    test_segments_scaled = [scaler.transform(segment) for segment in test_segments]\n",
        "\n",
        "    # Mantengo solo i segmenti che hanno lunghezza pari a 60 o 120 in base a se divido in intervalli di tot minuti.\n",
        "    uniform_segments = [segment for segment in test_segments_scaled if len(segment) == 60]\n",
        "\n",
        "    for seg in uniform_segments:\n",
        "        print(seg)\n",
        "\n",
        "    # Ricostruzione e calcolo dell'errore per ogni segmento di test\n",
        "    reconstructed_test = autoencoder.predict(np.array(uniform_segments))\n",
        "    mse_test = np.mean(np.power(uniform_segments - reconstructed_test, 2), axis=(1, 2))\n",
        "\n",
        "    # Identificazione delle anomalie nei blocchi di test\n",
        "    anomalies = mse_test > threshold\n",
        "    print(\"Numero di blocchi anomali rilevati:\", np.sum(anomalies))\n",
        "    print(f\"Blocchi anomali: {anomalies}\")"
      ],
      "metadata": {
        "id": "xYe-meCk_N2h"
      },
      "execution_count": 68,
      "outputs": []
    },
    {
      "cell_type": "markdown",
      "source": [
        "## Esecuzione del processo"
      ],
      "metadata": {
        "id": "lUWWcpS9Opf6"
      }
    },
    {
      "cell_type": "code",
      "source": [
        "segments = dataset_load_and_segmentation(\"phy_norm.csv\", [\"phy_att_1.csv\", \"phy_att_2.csv\"])"
      ],
      "metadata": {
        "id": "DNMmDa45d3dr"
      },
      "execution_count": null,
      "outputs": []
    },
    {
      "cell_type": "code",
      "source": [
        "segments_scaled_split, scaler = preprocessing(segments)"
      ],
      "metadata": {
        "id": "nhna_b1bd3Nu"
      },
      "execution_count": 75,
      "outputs": []
    },
    {
      "cell_type": "code",
      "source": [
        "autoencoder = building_and_training(segments_scaled_split)"
      ],
      "metadata": {
        "id": "_KeeyAizdmU1",
        "colab": {
          "base_uri": "https://localhost:8080/"
        },
        "outputId": "305afd55-10ac-4bf9-b420-259943af4fdc"
      },
      "execution_count": 134,
      "outputs": [
        {
          "output_type": "stream",
          "name": "stdout",
          "text": [
            "Epoch 1/500\n",
            "\u001b[1m6/6\u001b[0m \u001b[32m━━━━━━━━━━━━━━━━━━━━\u001b[0m\u001b[37m\u001b[0m \u001b[1m5s\u001b[0m 103ms/step - loss: 1.3826 - val_loss: 0.9463\n",
            "Epoch 2/500\n",
            "\u001b[1m6/6\u001b[0m \u001b[32m━━━━━━━━━━━━━━━━━━━━\u001b[0m\u001b[37m\u001b[0m \u001b[1m0s\u001b[0m 19ms/step - loss: 0.9045 - val_loss: 0.8978\n",
            "Epoch 3/500\n",
            "\u001b[1m6/6\u001b[0m \u001b[32m━━━━━━━━━━━━━━━━━━━━\u001b[0m\u001b[37m\u001b[0m \u001b[1m0s\u001b[0m 20ms/step - loss: 0.6291 - val_loss: 0.8480\n",
            "Epoch 4/500\n",
            "\u001b[1m6/6\u001b[0m \u001b[32m━━━━━━━━━━━━━━━━━━━━\u001b[0m\u001b[37m\u001b[0m \u001b[1m0s\u001b[0m 18ms/step - loss: 0.5618 - val_loss: 0.8048\n",
            "Epoch 5/500\n",
            "\u001b[1m6/6\u001b[0m \u001b[32m━━━━━━━━━━━━━━━━━━━━\u001b[0m\u001b[37m\u001b[0m \u001b[1m0s\u001b[0m 19ms/step - loss: 0.4159 - val_loss: 0.7707\n",
            "Epoch 6/500\n",
            "\u001b[1m6/6\u001b[0m \u001b[32m━━━━━━━━━━━━━━━━━━━━\u001b[0m\u001b[37m\u001b[0m \u001b[1m0s\u001b[0m 18ms/step - loss: 0.3613 - val_loss: 0.7426\n",
            "Epoch 7/500\n",
            "\u001b[1m6/6\u001b[0m \u001b[32m━━━━━━━━━━━━━━━━━━━━\u001b[0m\u001b[37m\u001b[0m \u001b[1m0s\u001b[0m 22ms/step - loss: 0.3070 - val_loss: 0.7187\n",
            "Epoch 8/500\n",
            "\u001b[1m6/6\u001b[0m \u001b[32m━━━━━━━━━━━━━━━━━━━━\u001b[0m\u001b[37m\u001b[0m \u001b[1m0s\u001b[0m 22ms/step - loss: 0.3091 - val_loss: 0.7001\n",
            "Epoch 9/500\n",
            "\u001b[1m6/6\u001b[0m \u001b[32m━━━━━━━━━━━━━━━━━━━━\u001b[0m\u001b[37m\u001b[0m \u001b[1m0s\u001b[0m 18ms/step - loss: 0.2921 - val_loss: 0.6831\n",
            "Epoch 10/500\n",
            "\u001b[1m6/6\u001b[0m \u001b[32m━━━━━━━━━━━━━━━━━━━━\u001b[0m\u001b[37m\u001b[0m \u001b[1m0s\u001b[0m 18ms/step - loss: 0.2687 - val_loss: 0.6658\n",
            "Epoch 11/500\n",
            "\u001b[1m6/6\u001b[0m \u001b[32m━━━━━━━━━━━━━━━━━━━━\u001b[0m\u001b[37m\u001b[0m \u001b[1m0s\u001b[0m 20ms/step - loss: 0.2848 - val_loss: 0.6490\n",
            "Epoch 12/500\n",
            "\u001b[1m6/6\u001b[0m \u001b[32m━━━━━━━━━━━━━━━━━━━━\u001b[0m\u001b[37m\u001b[0m \u001b[1m0s\u001b[0m 22ms/step - loss: 0.2529 - val_loss: 0.6338\n",
            "Epoch 13/500\n",
            "\u001b[1m6/6\u001b[0m \u001b[32m━━━━━━━━━━━━━━━━━━━━\u001b[0m\u001b[37m\u001b[0m \u001b[1m0s\u001b[0m 22ms/step - loss: 0.2290 - val_loss: 0.6210\n",
            "Epoch 14/500\n",
            "\u001b[1m6/6\u001b[0m \u001b[32m━━━━━━━━━━━━━━━━━━━━\u001b[0m\u001b[37m\u001b[0m \u001b[1m0s\u001b[0m 19ms/step - loss: 0.2492 - val_loss: 0.6099\n",
            "Epoch 15/500\n",
            "\u001b[1m6/6\u001b[0m \u001b[32m━━━━━━━━━━━━━━━━━━━━\u001b[0m\u001b[37m\u001b[0m \u001b[1m0s\u001b[0m 19ms/step - loss: 0.2124 - val_loss: 0.5976\n",
            "Epoch 16/500\n",
            "\u001b[1m6/6\u001b[0m \u001b[32m━━━━━━━━━━━━━━━━━━━━\u001b[0m\u001b[37m\u001b[0m \u001b[1m0s\u001b[0m 19ms/step - loss: 0.2320 - val_loss: 0.5824\n",
            "Epoch 17/500\n",
            "\u001b[1m6/6\u001b[0m \u001b[32m━━━━━━━━━━━━━━━━━━━━\u001b[0m\u001b[37m\u001b[0m \u001b[1m0s\u001b[0m 21ms/step - loss: 0.2087 - val_loss: 0.5703\n",
            "Epoch 18/500\n",
            "\u001b[1m6/6\u001b[0m \u001b[32m━━━━━━━━━━━━━━━━━━━━\u001b[0m\u001b[37m\u001b[0m \u001b[1m0s\u001b[0m 19ms/step - loss: 0.2153 - val_loss: 0.5632\n",
            "Epoch 19/500\n",
            "\u001b[1m6/6\u001b[0m \u001b[32m━━━━━━━━━━━━━━━━━━━━\u001b[0m\u001b[37m\u001b[0m \u001b[1m0s\u001b[0m 22ms/step - loss: 0.2153 - val_loss: 0.5526\n",
            "Epoch 20/500\n",
            "\u001b[1m6/6\u001b[0m \u001b[32m━━━━━━━━━━━━━━━━━━━━\u001b[0m\u001b[37m\u001b[0m \u001b[1m0s\u001b[0m 19ms/step - loss: 0.1765 - val_loss: 0.5432\n",
            "Epoch 21/500\n",
            "\u001b[1m6/6\u001b[0m \u001b[32m━━━━━━━━━━━━━━━━━━━━\u001b[0m\u001b[37m\u001b[0m \u001b[1m0s\u001b[0m 18ms/step - loss: 0.1808 - val_loss: 0.5354\n",
            "Epoch 22/500\n",
            "\u001b[1m6/6\u001b[0m \u001b[32m━━━━━━━━━━━━━━━━━━━━\u001b[0m\u001b[37m\u001b[0m \u001b[1m0s\u001b[0m 19ms/step - loss: 0.1653 - val_loss: 0.5240\n",
            "Epoch 23/500\n",
            "\u001b[1m6/6\u001b[0m \u001b[32m━━━━━━━━━━━━━━━━━━━━\u001b[0m\u001b[37m\u001b[0m \u001b[1m0s\u001b[0m 20ms/step - loss: 0.1876 - val_loss: 0.5117\n",
            "Epoch 24/500\n",
            "\u001b[1m6/6\u001b[0m \u001b[32m━━━━━━━━━━━━━━━━━━━━\u001b[0m\u001b[37m\u001b[0m \u001b[1m0s\u001b[0m 19ms/step - loss: 0.1980 - val_loss: 0.4985\n",
            "Epoch 25/500\n",
            "\u001b[1m6/6\u001b[0m \u001b[32m━━━━━━━━━━━━━━━━━━━━\u001b[0m\u001b[37m\u001b[0m \u001b[1m0s\u001b[0m 21ms/step - loss: 0.1632 - val_loss: 0.4896\n",
            "Epoch 26/500\n",
            "\u001b[1m6/6\u001b[0m \u001b[32m━━━━━━━━━━━━━━━━━━━━\u001b[0m\u001b[37m\u001b[0m \u001b[1m0s\u001b[0m 19ms/step - loss: 0.2639 - val_loss: 0.4804\n",
            "Epoch 27/500\n",
            "\u001b[1m6/6\u001b[0m \u001b[32m━━━━━━━━━━━━━━━━━━━━\u001b[0m\u001b[37m\u001b[0m \u001b[1m0s\u001b[0m 19ms/step - loss: 0.2020 - val_loss: 0.4663\n",
            "Epoch 28/500\n",
            "\u001b[1m6/6\u001b[0m \u001b[32m━━━━━━━━━━━━━━━━━━━━\u001b[0m\u001b[37m\u001b[0m \u001b[1m0s\u001b[0m 18ms/step - loss: 0.1673 - val_loss: 0.4549\n",
            "Epoch 29/500\n",
            "\u001b[1m6/6\u001b[0m \u001b[32m━━━━━━━━━━━━━━━━━━━━\u001b[0m\u001b[37m\u001b[0m \u001b[1m0s\u001b[0m 21ms/step - loss: 0.1588 - val_loss: 0.4487\n",
            "Epoch 30/500\n",
            "\u001b[1m6/6\u001b[0m \u001b[32m━━━━━━━━━━━━━━━━━━━━\u001b[0m\u001b[37m\u001b[0m \u001b[1m0s\u001b[0m 20ms/step - loss: 0.1490 - val_loss: 0.4424\n",
            "Epoch 31/500\n",
            "\u001b[1m6/6\u001b[0m \u001b[32m━━━━━━━━━━━━━━━━━━━━\u001b[0m\u001b[37m\u001b[0m \u001b[1m0s\u001b[0m 19ms/step - loss: 0.1519 - val_loss: 0.4335\n",
            "Epoch 32/500\n",
            "\u001b[1m6/6\u001b[0m \u001b[32m━━━━━━━━━━━━━━━━━━━━\u001b[0m\u001b[37m\u001b[0m \u001b[1m0s\u001b[0m 22ms/step - loss: 0.1726 - val_loss: 0.4250\n",
            "Epoch 33/500\n",
            "\u001b[1m6/6\u001b[0m \u001b[32m━━━━━━━━━━━━━━━━━━━━\u001b[0m\u001b[37m\u001b[0m \u001b[1m0s\u001b[0m 19ms/step - loss: 0.1403 - val_loss: 0.4161\n",
            "Epoch 34/500\n",
            "\u001b[1m6/6\u001b[0m \u001b[32m━━━━━━━━━━━━━━━━━━━━\u001b[0m\u001b[37m\u001b[0m \u001b[1m0s\u001b[0m 19ms/step - loss: 0.1402 - val_loss: 0.4072\n",
            "Epoch 35/500\n",
            "\u001b[1m6/6\u001b[0m \u001b[32m━━━━━━━━━━━━━━━━━━━━\u001b[0m\u001b[37m\u001b[0m \u001b[1m0s\u001b[0m 24ms/step - loss: 0.1442 - val_loss: 0.3982\n",
            "Epoch 36/500\n",
            "\u001b[1m6/6\u001b[0m \u001b[32m━━━━━━━━━━━━━━━━━━━━\u001b[0m\u001b[37m\u001b[0m \u001b[1m0s\u001b[0m 19ms/step - loss: 0.1328 - val_loss: 0.3885\n",
            "Epoch 37/500\n",
            "\u001b[1m6/6\u001b[0m \u001b[32m━━━━━━━━━━━━━━━━━━━━\u001b[0m\u001b[37m\u001b[0m \u001b[1m0s\u001b[0m 21ms/step - loss: 0.1485 - val_loss: 0.3801\n",
            "Epoch 38/500\n",
            "\u001b[1m6/6\u001b[0m \u001b[32m━━━━━━━━━━━━━━━━━━━━\u001b[0m\u001b[37m\u001b[0m \u001b[1m0s\u001b[0m 18ms/step - loss: 0.1421 - val_loss: 0.3737\n",
            "Epoch 39/500\n",
            "\u001b[1m6/6\u001b[0m \u001b[32m━━━━━━━━━━━━━━━━━━━━\u001b[0m\u001b[37m\u001b[0m \u001b[1m0s\u001b[0m 18ms/step - loss: 0.1625 - val_loss: 0.3664\n",
            "Epoch 40/500\n",
            "\u001b[1m6/6\u001b[0m \u001b[32m━━━━━━━━━━━━━━━━━━━━\u001b[0m\u001b[37m\u001b[0m \u001b[1m0s\u001b[0m 23ms/step - loss: 0.1623 - val_loss: 0.3598\n",
            "Epoch 41/500\n",
            "\u001b[1m6/6\u001b[0m \u001b[32m━━━━━━━━━━━━━━━━━━━━\u001b[0m\u001b[37m\u001b[0m \u001b[1m0s\u001b[0m 19ms/step - loss: 0.1289 - val_loss: 0.3537\n",
            "Epoch 42/500\n",
            "\u001b[1m6/6\u001b[0m \u001b[32m━━━━━━━━━━━━━━━━━━━━\u001b[0m\u001b[37m\u001b[0m \u001b[1m0s\u001b[0m 22ms/step - loss: 0.1696 - val_loss: 0.3462\n",
            "Epoch 43/500\n",
            "\u001b[1m6/6\u001b[0m \u001b[32m━━━━━━━━━━━━━━━━━━━━\u001b[0m\u001b[37m\u001b[0m \u001b[1m0s\u001b[0m 18ms/step - loss: 0.1429 - val_loss: 0.3396\n",
            "Epoch 44/500\n",
            "\u001b[1m6/6\u001b[0m \u001b[32m━━━━━━━━━━━━━━━━━━━━\u001b[0m\u001b[37m\u001b[0m \u001b[1m0s\u001b[0m 19ms/step - loss: 0.1217 - val_loss: 0.3346\n",
            "Epoch 45/500\n",
            "\u001b[1m6/6\u001b[0m \u001b[32m━━━━━━━━━━━━━━━━━━━━\u001b[0m\u001b[37m\u001b[0m \u001b[1m0s\u001b[0m 22ms/step - loss: 0.1409 - val_loss: 0.3242\n",
            "Epoch 46/500\n",
            "\u001b[1m6/6\u001b[0m \u001b[32m━━━━━━━━━━━━━━━━━━━━\u001b[0m\u001b[37m\u001b[0m \u001b[1m0s\u001b[0m 18ms/step - loss: 0.1382 - val_loss: 0.3192\n",
            "Epoch 47/500\n",
            "\u001b[1m6/6\u001b[0m \u001b[32m━━━━━━━━━━━━━━━━━━━━\u001b[0m\u001b[37m\u001b[0m \u001b[1m0s\u001b[0m 19ms/step - loss: 0.1154 - val_loss: 0.3167\n",
            "Epoch 48/500\n",
            "\u001b[1m6/6\u001b[0m \u001b[32m━━━━━━━━━━━━━━━━━━━━\u001b[0m\u001b[37m\u001b[0m \u001b[1m0s\u001b[0m 20ms/step - loss: 0.1118 - val_loss: 0.3085\n",
            "Epoch 49/500\n",
            "\u001b[1m6/6\u001b[0m \u001b[32m━━━━━━━━━━━━━━━━━━━━\u001b[0m\u001b[37m\u001b[0m \u001b[1m0s\u001b[0m 19ms/step - loss: 0.1137 - val_loss: 0.2994\n",
            "Epoch 50/500\n",
            "\u001b[1m6/6\u001b[0m \u001b[32m━━━━━━━━━━━━━━━━━━━━\u001b[0m\u001b[37m\u001b[0m \u001b[1m0s\u001b[0m 19ms/step - loss: 0.1564 - val_loss: 0.2943\n",
            "Epoch 51/500\n",
            "\u001b[1m6/6\u001b[0m \u001b[32m━━━━━━━━━━━━━━━━━━━━\u001b[0m\u001b[37m\u001b[0m \u001b[1m0s\u001b[0m 18ms/step - loss: 0.1325 - val_loss: 0.2867\n",
            "Epoch 52/500\n",
            "\u001b[1m6/6\u001b[0m \u001b[32m━━━━━━━━━━━━━━━━━━━━\u001b[0m\u001b[37m\u001b[0m \u001b[1m0s\u001b[0m 23ms/step - loss: 0.1116 - val_loss: 0.2765\n",
            "Epoch 53/500\n",
            "\u001b[1m6/6\u001b[0m \u001b[32m━━━━━━━━━━━━━━━━━━━━\u001b[0m\u001b[37m\u001b[0m \u001b[1m0s\u001b[0m 20ms/step - loss: 0.1126 - val_loss: 0.2712\n",
            "Epoch 54/500\n",
            "\u001b[1m6/6\u001b[0m \u001b[32m━━━━━━━━━━━━━━━━━━━━\u001b[0m\u001b[37m\u001b[0m \u001b[1m0s\u001b[0m 20ms/step - loss: 0.1299 - val_loss: 0.2700\n",
            "Epoch 55/500\n",
            "\u001b[1m6/6\u001b[0m \u001b[32m━━━━━━━━━━━━━━━━━━━━\u001b[0m\u001b[37m\u001b[0m \u001b[1m0s\u001b[0m 19ms/step - loss: 0.1206 - val_loss: 0.2682\n",
            "Epoch 56/500\n",
            "\u001b[1m6/6\u001b[0m \u001b[32m━━━━━━━━━━━━━━━━━━━━\u001b[0m\u001b[37m\u001b[0m \u001b[1m0s\u001b[0m 18ms/step - loss: 0.1154 - val_loss: 0.2675\n",
            "Epoch 57/500\n",
            "\u001b[1m6/6\u001b[0m \u001b[32m━━━━━━━━━━━━━━━━━━━━\u001b[0m\u001b[37m\u001b[0m \u001b[1m0s\u001b[0m 29ms/step - loss: 0.1173 - val_loss: 0.2632\n",
            "Epoch 58/500\n",
            "\u001b[1m6/6\u001b[0m \u001b[32m━━━━━━━━━━━━━━━━━━━━\u001b[0m\u001b[37m\u001b[0m \u001b[1m0s\u001b[0m 28ms/step - loss: 0.1211 - val_loss: 0.2533\n",
            "Epoch 59/500\n",
            "\u001b[1m6/6\u001b[0m \u001b[32m━━━━━━━━━━━━━━━━━━━━\u001b[0m\u001b[37m\u001b[0m \u001b[1m0s\u001b[0m 26ms/step - loss: 0.1151 - val_loss: 0.2441\n",
            "Epoch 60/500\n",
            "\u001b[1m6/6\u001b[0m \u001b[32m━━━━━━━━━━━━━━━━━━━━\u001b[0m\u001b[37m\u001b[0m \u001b[1m0s\u001b[0m 25ms/step - loss: 0.1227 - val_loss: 0.2422\n",
            "Epoch 61/500\n",
            "\u001b[1m6/6\u001b[0m \u001b[32m━━━━━━━━━━━━━━━━━━━━\u001b[0m\u001b[37m\u001b[0m \u001b[1m0s\u001b[0m 26ms/step - loss: 0.1466 - val_loss: 0.2401\n",
            "Epoch 62/500\n",
            "\u001b[1m6/6\u001b[0m \u001b[32m━━━━━━━━━━━━━━━━━━━━\u001b[0m\u001b[37m\u001b[0m \u001b[1m0s\u001b[0m 24ms/step - loss: 0.1129 - val_loss: 0.2426\n",
            "Epoch 63/500\n",
            "\u001b[1m6/6\u001b[0m \u001b[32m━━━━━━━━━━━━━━━━━━━━\u001b[0m\u001b[37m\u001b[0m \u001b[1m0s\u001b[0m 30ms/step - loss: 0.1085 - val_loss: 0.2445\n",
            "Epoch 64/500\n",
            "\u001b[1m6/6\u001b[0m \u001b[32m━━━━━━━━━━━━━━━━━━━━\u001b[0m\u001b[37m\u001b[0m \u001b[1m0s\u001b[0m 25ms/step - loss: 0.1064 - val_loss: 0.2432\n",
            "Epoch 65/500\n",
            "\u001b[1m6/6\u001b[0m \u001b[32m━━━━━━━━━━━━━━━━━━━━\u001b[0m\u001b[37m\u001b[0m \u001b[1m0s\u001b[0m 30ms/step - loss: 0.1282 - val_loss: 0.2431\n",
            "Epoch 66/500\n",
            "\u001b[1m6/6\u001b[0m \u001b[32m━━━━━━━━━━━━━━━━━━━━\u001b[0m\u001b[37m\u001b[0m \u001b[1m0s\u001b[0m 30ms/step - loss: 0.1010 - val_loss: 0.2384\n",
            "Epoch 67/500\n",
            "\u001b[1m6/6\u001b[0m \u001b[32m━━━━━━━━━━━━━━━━━━━━\u001b[0m\u001b[37m\u001b[0m \u001b[1m0s\u001b[0m 28ms/step - loss: 0.1320 - val_loss: 0.2345\n",
            "Epoch 68/500\n",
            "\u001b[1m6/6\u001b[0m \u001b[32m━━━━━━━━━━━━━━━━━━━━\u001b[0m\u001b[37m\u001b[0m \u001b[1m0s\u001b[0m 31ms/step - loss: 0.1269 - val_loss: 0.2343\n",
            "Epoch 69/500\n",
            "\u001b[1m6/6\u001b[0m \u001b[32m━━━━━━━━━━━━━━━━━━━━\u001b[0m\u001b[37m\u001b[0m \u001b[1m0s\u001b[0m 32ms/step - loss: 0.1294 - val_loss: 0.2359\n",
            "Epoch 70/500\n",
            "\u001b[1m6/6\u001b[0m \u001b[32m━━━━━━━━━━━━━━━━━━━━\u001b[0m\u001b[37m\u001b[0m \u001b[1m0s\u001b[0m 19ms/step - loss: 0.1298 - val_loss: 0.2328\n",
            "Epoch 71/500\n",
            "\u001b[1m6/6\u001b[0m \u001b[32m━━━━━━━━━━━━━━━━━━━━\u001b[0m\u001b[37m\u001b[0m \u001b[1m0s\u001b[0m 19ms/step - loss: 0.1299 - val_loss: 0.2318\n",
            "Epoch 72/500\n",
            "\u001b[1m6/6\u001b[0m \u001b[32m━━━━━━━━━━━━━━━━━━━━\u001b[0m\u001b[37m\u001b[0m \u001b[1m0s\u001b[0m 21ms/step - loss: 0.1143 - val_loss: 0.2275\n",
            "Epoch 73/500\n",
            "\u001b[1m6/6\u001b[0m \u001b[32m━━━━━━━━━━━━━━━━━━━━\u001b[0m\u001b[37m\u001b[0m \u001b[1m0s\u001b[0m 22ms/step - loss: 0.1239 - val_loss: 0.2307\n",
            "Epoch 74/500\n",
            "\u001b[1m6/6\u001b[0m \u001b[32m━━━━━━━━━━━━━━━━━━━━\u001b[0m\u001b[37m\u001b[0m \u001b[1m0s\u001b[0m 18ms/step - loss: 0.1207 - val_loss: 0.2322\n",
            "Epoch 75/500\n",
            "\u001b[1m6/6\u001b[0m \u001b[32m━━━━━━━━━━━━━━━━━━━━\u001b[0m\u001b[37m\u001b[0m \u001b[1m0s\u001b[0m 19ms/step - loss: 0.0994 - val_loss: 0.2263\n",
            "Epoch 76/500\n",
            "\u001b[1m6/6\u001b[0m \u001b[32m━━━━━━━━━━━━━━━━━━━━\u001b[0m\u001b[37m\u001b[0m \u001b[1m0s\u001b[0m 18ms/step - loss: 0.1028 - val_loss: 0.2297\n",
            "Epoch 77/500\n",
            "\u001b[1m6/6\u001b[0m \u001b[32m━━━━━━━━━━━━━━━━━━━━\u001b[0m\u001b[37m\u001b[0m \u001b[1m0s\u001b[0m 20ms/step - loss: 0.1430 - val_loss: 0.2296\n",
            "Epoch 78/500\n",
            "\u001b[1m6/6\u001b[0m \u001b[32m━━━━━━━━━━━━━━━━━━━━\u001b[0m\u001b[37m\u001b[0m \u001b[1m0s\u001b[0m 18ms/step - loss: 0.0922 - val_loss: 0.2359\n",
            "Epoch 79/500\n",
            "\u001b[1m6/6\u001b[0m \u001b[32m━━━━━━━━━━━━━━━━━━━━\u001b[0m\u001b[37m\u001b[0m \u001b[1m0s\u001b[0m 21ms/step - loss: 0.1200 - val_loss: 0.2411\n",
            "Epoch 80/500\n",
            "\u001b[1m6/6\u001b[0m \u001b[32m━━━━━━━━━━━━━━━━━━━━\u001b[0m\u001b[37m\u001b[0m \u001b[1m0s\u001b[0m 18ms/step - loss: 0.0977 - val_loss: 0.2504\n",
            "\n",
            "--- Statistiche Finali ---\n",
            "Loss finale su training set: 0.1072\n",
            "Loss finale su validation set: 0.2504\n",
            "\n",
            "--- Risultati Finali ---\n",
            "Training Loss: 0.1072\n",
            "Validation Loss: 0.2504\n"
          ]
        }
      ]
    },
    {
      "cell_type": "code",
      "source": [
        "threshols = get_rebuilding_error(autoencoder, segments_scaled_split)"
      ],
      "metadata": {
        "id": "dDSj0Y0S-9Ri"
      },
      "execution_count": null,
      "outputs": []
    },
    {
      "cell_type": "code",
      "source": [
        "testing(\"phy_att_3.csv\", scaler, autoencoder, threshols)"
      ],
      "metadata": {
        "id": "ZFa0kfI8_Ubp"
      },
      "execution_count": null,
      "outputs": []
    }
  ]
}