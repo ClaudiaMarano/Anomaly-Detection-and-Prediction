{
  "nbformat": 4,
  "nbformat_minor": 0,
  "metadata": {
    "colab": {
      "provenance": [],
      "include_colab_link": true
    },
    "kernelspec": {
      "name": "python3",
      "display_name": "Python 3"
    },
    "language_info": {
      "name": "python"
    }
  },
  "cells": [
    {
      "cell_type": "markdown",
      "metadata": {
        "id": "view-in-github",
        "colab_type": "text"
      },
      "source": [
        "<a href=\"https://colab.research.google.com/github/ClaudiaMarano/Anomaly-Detection-and-Prediction/blob/main/network_detection.ipynb\" target=\"_parent\"><img src=\"https://colab.research.google.com/assets/colab-badge.svg\" alt=\"Open In Colab\"/></a>"
      ]
    },
    {
      "cell_type": "markdown",
      "source": [
        "# Physical Anomaly Detection"
      ],
      "metadata": {
        "id": "u9jQDQ_pNV2R"
      }
    },
    {
      "cell_type": "markdown",
      "source": [
        "## Import Librerie"
      ],
      "metadata": {
        "id": "xs62gvzhNhkN"
      }
    },
    {
      "cell_type": "code",
      "source": [
        "import pandas as pd\n",
        "from sklearn.preprocessing import StandardScaler\n",
        "import numpy as np\n",
        "from sklearn.metrics import classification_report\n",
        "from tensorflow.keras.models import Model\n",
        "from tensorflow.keras.layers import Input, Dense, Flatten, Reshape\n",
        "from tensorflow.keras.callbacks import Callback\n",
        "from keras.optimizers import Adam\n",
        "from keras.layers import BatchNormalization\n",
        "from keras.callbacks import EarlyStopping\n",
        "from keras.layers import LeakyReLU\n",
        "from keras.layers import Dropout\n",
        "\n",
        "from sklearn.preprocessing import MinMaxScaler, OneHotEncoder\n",
        "from sklearn.compose import ColumnTransformer\n"
      ],
      "metadata": {
        "id": "mtAgZvi2dUxT"
      },
      "execution_count": 53,
      "outputs": []
    },
    {
      "cell_type": "markdown",
      "source": [
        "## Caricamento e Preprocessing\n",
        "Il dataset viene suddiviso in intervalli di un minuto in modo da addestrare la rete su intervalli di campioni senza anomalie, in modo da poter riconoscere in fase di test quando un intervallo contiene invece un'anomalia.\n"
      ],
      "metadata": {
        "id": "4SamnLoTgwII"
      }
    },
    {
      "cell_type": "code",
      "source": [
        "def preprocess_by_minute(path):\n",
        "    # Caricamento del dataset\n",
        "    df = pd.read_csv(path, encoding=\"utf-8\")\n",
        "\n",
        "    # Assicuriamoci che 'Time' sia in formato datetime\n",
        "    df['Time'] = pd.to_datetime(df['Time'], format='%Y-%m-%d %H:%M:%S.%f', errors='coerce')\n",
        "\n",
        "    # Rimuovi righe con valori di data non validi\n",
        "    df = df.dropna(subset=['Time'])\n",
        "\n",
        "    # Ordinare i dati per timestamp\n",
        "    df = df.sort_values(by='Time')\n",
        "\n",
        "    print(\"Start Time: \", df['Time'].iloc[0])\n",
        "    print(\"Finish Time: \", df['Time'].iloc[-1])\n",
        "\n",
        "    # Raggruppa i dati in intervalli di 1 minuto\n",
        "    grouped = df.groupby(pd.Grouper(key='Time', freq='1min'))\n",
        "\n",
        "    # Creare i segmenti (ogni gruppo corrisponde a 1 minuto)\n",
        "    segments = []\n",
        "    for _, group in grouped:\n",
        "        if not group.empty:\n",
        "          segment = group.drop(columns=['Time', 'label', 'label_n']).reset_index(drop=True)\n",
        "          # segment.to_csv(f'segment_{len(segments)}.csv', index=False)\n",
        "          segments.append(segment)\n",
        "\n",
        "    # Restituisci i segmenti\n",
        "    return segments"
      ],
      "metadata": {
        "id": "_enyL6JXm1y1"
      },
      "execution_count": 58,
      "outputs": []
    },
    {
      "cell_type": "code",
      "source": [
        "def preprocess_network_data(path):\n",
        "    # Caricamento del dataset\n",
        "    df = pd.read_csv(path, encoding=\"utf-8\")\n",
        "\n",
        "    # Assicuriamoci che 'Time' sia in formato datetime\n",
        "    df['Time'] = pd.to_datetime(df['Time'], format='%Y-%m-%d %H:%M:%S.%f', errors='coerce')\n",
        "\n",
        "    # Rimuovi righe con valori di data non validi\n",
        "    df = df.dropna(subset=['Time'])\n",
        "\n",
        "    # Ordinare i dati per timestamp\n",
        "    df_normal = df.sort_values(by='Time')\n",
        "\n",
        "    # Divisione in intervalli di un minuto\n",
        "    segments = []\n",
        "    window_duration = pd.Timedelta(minutes=1)\n",
        "    start_time = df_normal['Time'].iloc[0]\n",
        "\n",
        "    print(\"Start Time: \", df_normal['Time'].iloc[0])\n",
        "    print(\"Finish Time: \", df_normal['Time'].iloc[-1])\n",
        "\n",
        "    while start_time < df_normal['Time'].iloc[-1]:\n",
        "        end_time = start_time + window_duration\n",
        "        segment = df_normal[(df_normal['Time'] >= start_time) & (df_normal['Time'] < end_time)]\n",
        "        if len(segment) > 0:\n",
        "            segments.append(segment.drop(columns=['Time', 'label', 'label_n']).reset_index(drop=True))\n",
        "        start_time = end_time\n",
        "\n",
        "    # Preprocessing delle feature\n",
        "    # Separiamo colonne categoriali e numeriche\n",
        "    categorical_columns = ['mac_s', 'mac_d', 'ip_s', 'ip_d', 'proto', 'flags', 'modbus_fn']\n",
        "    numerical_columns = ['sport', 'dport', 'size', 'n_pkt_src', 'n_pkt_dst']\n",
        "\n",
        "    # Creiamo un trasformatore combinato\n",
        "    preprocessor = ColumnTransformer(\n",
        "        transformers=[\n",
        "            ('cat', OneHotEncoder(handle_unknown='ignore'), categorical_columns),\n",
        "            ('num', MinMaxScaler(), numerical_columns)\n",
        "        ]\n",
        "    )\n",
        "\n",
        "    # Normalizzazione e codifica di ogni segmento\n",
        "    processed_segments = []\n",
        "    for segment in segments:\n",
        "        processed = preprocessor.fit_transform(segment)\n",
        "        processed_segments.append(processed)\n",
        "\n",
        "    # Ritorniamo i segmenti processati (normalizzati e codificati)\n",
        "    return processed_segments"
      ],
      "metadata": {
        "id": "9oaBjurSgnzw"
      },
      "execution_count": 57,
      "outputs": []
    },
    {
      "cell_type": "markdown",
      "source": [
        "## Funzione per il Training"
      ],
      "metadata": {
        "id": "aVvBM66XOWUT"
      }
    },
    {
      "cell_type": "code",
      "execution_count": null,
      "metadata": {
        "id": "7Td_xbCkdGzf"
      },
      "outputs": [],
      "source": [
        "# 3.\n",
        "def building_and_training(segments_scaled_split):\n",
        "    # Callback per visualizzare statistiche al termine dell'addestramento\n",
        "    class TrainingSummary(Callback):\n",
        "        def on_train_end(self, logs=None):\n",
        "            print(\"\\n--- Statistiche Finali ---\")\n",
        "            print(f\"Loss finale su training set: {logs['loss']:.4f}\")\n",
        "            if 'val_loss' in logs:\n",
        "                print(f\"Loss finale su validation set: {logs['val_loss']:.4f}\")\n",
        "\n",
        "    # Definisco l'input shape\n",
        "    input_shape = segments_scaled_split[0].shape  # Forma di un segmento\n",
        "\n",
        "    # Definisco la struttura dell'autoencoder\n",
        "    input_layer = Input(shape=input_shape)\n",
        "    x = Flatten()(input_layer)\n",
        "    x = Dense(256)(x)\n",
        "    x = LeakyReLU(alpha=0.1)(x)\n",
        "    x = BatchNormalization()(x)\n",
        "    x = Dropout(0.1)(x)  # Dropout 30%\n",
        "    x = Dense(128)(x)\n",
        "    x = LeakyReLU(alpha=0.1)(x)\n",
        "    x = BatchNormalization()(x)\n",
        "    x = Dropout(0.1)(x)  # Dropout 30%\n",
        "    encoded = Dense(64)(x)\n",
        "    encoded = LeakyReLU(alpha=0.1)(encoded)\n",
        "    x = Dense(128)(encoded)\n",
        "    x = LeakyReLU(alpha=0.1)(x)\n",
        "    x = BatchNormalization()(x)\n",
        "    x = Dropout(0.1)(x)  # Dropout 30%\n",
        "    x = Dense(256)(x)\n",
        "    x = LeakyReLU(alpha=0.1)(x)\n",
        "    x = BatchNormalization()(x)\n",
        "    x = Dropout(0.1)(x)  # Dropout 30%\n",
        "    x = Dense(np.prod(input_shape), activation=\"sigmoid\")(x)\n",
        "    x = BatchNormalization()(x)\n",
        "    decoded = Reshape(input_shape)(x)\n",
        "\n",
        "    # Creo il Modello\n",
        "    autoencoder = Model(inputs=input_layer, outputs=decoded)\n",
        "    autoencoder.compile(optimizer=Adam(learning_rate=0.001), loss=\"mse\")\n",
        "\n",
        "    early_stopping = EarlyStopping(\n",
        "        monitor=\"val_loss\", patience=10, restore_best_weights=True\n",
        "    )\n",
        "\n",
        "    # Addestramento dell'autoencoder sui dati \"normali\", senza anomalie\n",
        "    history = autoencoder.fit(\n",
        "        np.array(segments_scaled_split), np.array(segments_scaled_split),\n",
        "        epochs=500, batch_size=16, shuffle=True, validation_split=0.1,\n",
        "        callbacks=[TrainingSummary(), early_stopping]\n",
        "    )\n",
        "\n",
        "    # Stampo statistiche finali direttamente dal dizionario `history.history`\n",
        "\n",
        "    print(\"\\n--- Risultati Finali ---\")\n",
        "    print(f\"Training Loss: {history.history['loss'][-1]:.4f}\")\n",
        "    print(f\"Validation Loss: {history.history['val_loss'][-1]:.4f}\")\n",
        "\n",
        "    return autoencoder\n"
      ]
    },
    {
      "cell_type": "markdown",
      "source": [
        "## Calcolo dell'Errore di Ricostruzione"
      ],
      "metadata": {
        "id": "ktx1OP-vOZLU"
      }
    },
    {
      "cell_type": "code",
      "source": [
        "# 4.\n",
        "def get_rebuilding_error(autoencoder, segments_scaled_split):\n",
        "    # Ricostruzione dei dati di addestramento\n",
        "    reconstructed_train = autoencoder.predict(np.array(segments_scaled_split))\n",
        "    mse_train = np.mean(np.power(segments_scaled_split - reconstructed_train, 2), axis=(1, 2))\n",
        "\n",
        "    # Imposto il threshold al 95° percentile dell'errore\n",
        "    threshold = np.percentile(mse_train, 95)\n",
        "    print(\"Soglia di errore di ricostruzione:\", threshold)\n",
        "\n",
        "    return threshold"
      ],
      "metadata": {
        "id": "ConTUI9z3SjH"
      },
      "execution_count": null,
      "outputs": []
    },
    {
      "cell_type": "markdown",
      "source": [
        "## Test del modello"
      ],
      "metadata": {
        "id": "QD4wdBMbOkqW"
      }
    },
    {
      "cell_type": "code",
      "source": [
        "# 5.\n",
        "def testing(path, scaler, autoencoder, threshold):\n",
        "    # Carico il CSV con diversa codifica\n",
        "    df_anomalous = pd.read_csv(path, sep='\\t', encoding='utf-16')\n",
        "    df_anomalous = df_anomalous.drop(columns=[\"Label\"])\n",
        "\n",
        "    df_anomalous['Time'] = pd.to_datetime(df_anomalous['Time'])\n",
        "    df_anomalous = df_anomalous.sort_values(by='Time')\n",
        "\n",
        "    # Segmentazione del file di test in blocchi di tot minuti\n",
        "    test_segments = []\n",
        "    start_time = df_anomalous['Time'].iloc[0]\n",
        "\n",
        "    # Definisco la finestra di tot minuti\n",
        "    window_duration = pd.Timedelta(minutes=1)\n",
        "\n",
        "    while start_time < df_anomalous['Time'].iloc[-1]:\n",
        "        end_time = start_time + window_duration\n",
        "        segment = df_anomalous[(df_anomalous['Time'] >= start_time) & (df_anomalous['Time'] < end_time)]\n",
        "        if len(segment) > 0:\n",
        "            test_segments.append(segment.drop(columns=['Time']).values)\n",
        "        start_time = end_time\n",
        "\n",
        "    # Normalizzazione dei segmenti di test usando lo scaler già addestrato\n",
        "    test_segments_scaled = [scaler.transform(segment) for segment in test_segments]\n",
        "\n",
        "    # Mantengo solo i segmenti che hanno lunghezza pari a 60 o 120 in base a se divido in intervalli di tot minuti.\n",
        "    uniform_segments = [segment for segment in test_segments_scaled if len(segment) == 60]\n",
        "\n",
        "    for seg in uniform_segments:\n",
        "        print(seg)\n",
        "\n",
        "    # Ricostruzione e calcolo dell'errore per ogni segmento di test\n",
        "    reconstructed_test = autoencoder.predict(np.array(uniform_segments))\n",
        "    mse_test = np.mean(np.power(uniform_segments - reconstructed_test, 2), axis=(1, 2))\n",
        "\n",
        "    # Identificazione delle anomalie nei blocchi di test\n",
        "    anomalies = mse_test > threshold\n",
        "    print(\"Numero di blocchi anomali rilevati:\", np.sum(anomalies))\n",
        "    print(f\"Blocchi anomali: {anomalies}\")"
      ],
      "metadata": {
        "id": "xYe-meCk_N2h"
      },
      "execution_count": null,
      "outputs": []
    },
    {
      "cell_type": "markdown",
      "source": [
        "## Esecuzione del processo"
      ],
      "metadata": {
        "id": "lUWWcpS9Opf6"
      }
    },
    {
      "cell_type": "code",
      "source": [
        "segments = preprocess_by_minute(\"normal.csv\")\n",
        "print(\"Numero di segmenti:\", len(segments))"
      ],
      "metadata": {
        "id": "DNMmDa45d3dr",
        "colab": {
          "base_uri": "https://localhost:8080/"
        },
        "outputId": "2ec753ce-9771-4688-8c46-5d1fbfea8455"
      },
      "execution_count": 59,
      "outputs": [
        {
          "output_type": "stream",
          "name": "stdout",
          "text": [
            "Start Time:  2021-04-09 11:30:52.716203\n",
            "Finish Time:  2021-04-09 12:07:36.011694\n",
            "Numero di segmenti: 38\n"
          ]
        }
      ]
    },
    {
      "cell_type": "code",
      "source": [
        "segments_2 = preprocess_network_data(\"normal.csv\")\n",
        "print(\"Numero di segmenti:\", len(segments_2))"
      ],
      "metadata": {
        "colab": {
          "base_uri": "https://localhost:8080/"
        },
        "id": "FUVIILWyQvMv",
        "outputId": "893a1cdf-8202-4123-cfac-db3194ba8204"
      },
      "execution_count": 60,
      "outputs": [
        {
          "output_type": "stream",
          "name": "stdout",
          "text": [
            "Start Time:  2021-04-09 11:30:52.716203\n",
            "Finish Time:  2021-04-09 12:07:36.011694\n",
            "Numero di segmenti: 37\n"
          ]
        }
      ]
    },
    {
      "cell_type": "code",
      "source": [
        "autoencoder = building_and_training(segments)"
      ],
      "metadata": {
        "id": "_KeeyAizdmU1"
      },
      "execution_count": null,
      "outputs": []
    },
    {
      "cell_type": "code",
      "source": [
        "threshols = get_rebuilding_error(autoencoder, segments_scaled_split)"
      ],
      "metadata": {
        "id": "dDSj0Y0S-9Ri"
      },
      "execution_count": null,
      "outputs": []
    },
    {
      "cell_type": "code",
      "source": [
        "testing(\"attack_1.csv\", scaler, autoencoder, threshols)"
      ],
      "metadata": {
        "id": "ZFa0kfI8_Ubp"
      },
      "execution_count": null,
      "outputs": []
    }
  ]
}