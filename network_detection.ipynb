{
  "nbformat": 4,
  "nbformat_minor": 0,
  "metadata": {
    "colab": {
      "provenance": [],
      "include_colab_link": true
    },
    "kernelspec": {
      "name": "python3",
      "display_name": "Python 3"
    },
    "language_info": {
      "name": "python"
    }
  },
  "cells": [
    {
      "cell_type": "markdown",
      "metadata": {
        "id": "view-in-github",
        "colab_type": "text"
      },
      "source": [
        "<a href=\"https://colab.research.google.com/github/ClaudiaMarano/Anomaly-Detection-and-Prediction/blob/main/network_detection.ipynb\" target=\"_parent\"><img src=\"https://colab.research.google.com/assets/colab-badge.svg\" alt=\"Open In Colab\"/></a>"
      ]
    },
    {
      "cell_type": "markdown",
      "source": [
        "# Physical Anomaly Detection"
      ],
      "metadata": {
        "id": "u9jQDQ_pNV2R"
      }
    },
    {
      "cell_type": "markdown",
      "source": [
        "## Import Librerie"
      ],
      "metadata": {
        "id": "xs62gvzhNhkN"
      }
    },
    {
      "cell_type": "code",
      "source": [
        "import pandas as pd\n",
        "from sklearn.preprocessing import StandardScaler\n",
        "import numpy as np\n",
        "from sklearn.metrics import classification_report\n",
        "from tensorflow.keras.models import Model\n",
        "from tensorflow.keras.layers import Input, Dense, Flatten, Reshape\n",
        "from tensorflow.keras.callbacks import Callback\n",
        "from keras.optimizers import Adam\n",
        "from keras.layers import BatchNormalization\n",
        "from keras.callbacks import EarlyStopping\n",
        "from keras.layers import LeakyReLU\n",
        "from keras.layers import Dropout\n",
        "\n",
        "from sklearn.preprocessing import MinMaxScaler, OneHotEncoder\n",
        "from sklearn.compose import ColumnTransformer\n"
      ],
      "metadata": {
        "id": "mtAgZvi2dUxT"
      },
      "execution_count": 22,
      "outputs": []
    },
    {
      "cell_type": "markdown",
      "source": [
        "## Caricamento e Preprocessing\n",
        "Il dataset viene suddiviso in intervalli di un minuto in modo da addestrare la rete su intervalli di campioni senza anomalie, in modo da poter riconoscere in fase di test quando un intervallo contiene invece un'anomalia.\n"
      ],
      "metadata": {
        "id": "4SamnLoTgwII"
      }
    },
    {
      "cell_type": "code",
      "source": [
        "def preprocess_network_data(path):\n",
        "    # Caricamento del dataset\n",
        "    df = pd.read_csv(path, encoding=\"utf-8\")\n",
        "\n",
        "    # Assicuriamoci che 'Time' sia in formato datetime\n",
        "    df['Time'] = pd.to_datetime(df['Time'], format='%Y-%m-%d %H:%M:%S.%f', errors='coerce')\n",
        "\n",
        "    # Rimuovi righe con valori di data non validi\n",
        "    df = df.dropna(subset=['Time'])\n",
        "\n",
        "    # Ordinare i dati per timestamp\n",
        "    df_normal = df.sort_values(by='Time')\n",
        "\n",
        "    # Divisione in intervalli di un minuto\n",
        "    segments = []\n",
        "    window_duration = pd.Timedelta(milliseconds=100)\n",
        "    start_time = df_normal['Time'].iloc[0]\n",
        "\n",
        "    print(\"Start Time: \", df_normal['Time'].iloc[0])\n",
        "    print(\"Finish Time: \", df_normal['Time'].iloc[-1])\n",
        "\n",
        "    while start_time < df_normal['Time'].iloc[-1]:\n",
        "        end_time = start_time + window_duration\n",
        "        segment = df_normal[(df_normal['Time'] >= start_time) & (df_normal['Time'] < end_time)]\n",
        "        if len(segment) > 0:\n",
        "            segments.append(segment.drop(columns=['Time', 'label', 'label_n']).reset_index(drop=True))\n",
        "        start_time = end_time\n",
        "\n",
        "    # Filtra i segmenti per ottenere solo quelli esattamente di 200 righe\n",
        "    valid_segments = []\n",
        "    for segment in segments:\n",
        "        if len(segment) > 200:\n",
        "            # Mantieni solo le prime 200 righe\n",
        "            valid_segments.append(segment.iloc[:200].reset_index(drop=True))\n",
        "        elif len(segment) == 200:\n",
        "            # Segmento già valido\n",
        "            valid_segments.append(segment)\n",
        "\n",
        "    print(f\"Number of valid segments: {len(valid_segments)}\")\n",
        "\n",
        "    # Preprocessing delle feature\n",
        "    # Separiamo colonne categoriali e numeriche\n",
        "    categorical_columns = ['mac_s', 'mac_d', 'ip_s', 'ip_d', 'proto', 'flags', 'modbus_fn']\n",
        "    numerical_columns = ['sport', 'dport', 'size', 'n_pkt_src', 'n_pkt_dst']\n",
        "\n",
        "    # Creiamo un trasformatore combinato\n",
        "    preprocessor = ColumnTransformer(\n",
        "        transformers=[\n",
        "            ('cat', OneHotEncoder(handle_unknown='ignore'), categorical_columns),\n",
        "            ('num', MinMaxScaler(), numerical_columns)\n",
        "        ]\n",
        "    )\n",
        "\n",
        "    # Normalizzazione e codifica di ogni segmento\n",
        "    processed_segments = []\n",
        "    i = 0\n",
        "    for segment in valid_segments:\n",
        "      print(len(segment))\n",
        "      if i > 3:\n",
        "        break\n",
        "      processed = preprocessor.fit_transform(segment)\n",
        "      processed_segments.append(processed)\n",
        "      i += 1\n",
        "\n",
        "    # Ritorniamo i segmenti processati (normalizzati e codificati)\n",
        "    return processed_segments"
      ],
      "metadata": {
        "id": "9oaBjurSgnzw"
      },
      "execution_count": 24,
      "outputs": []
    },
    {
      "cell_type": "code",
      "source": [
        "\n",
        "def preprocess_and_pad_segments(segments, target_shape):\n",
        "    \"\"\"\n",
        "    Preprocessa i segmenti per garantire che abbiano la stessa forma.\n",
        "    Applica padding o troncamento per adattarsi a `target_shape`.\n",
        "\n",
        "    Parameters:\n",
        "        segments (list of np.ndarray): Lista di segmenti.\n",
        "        target_shape (tuple): Forma obiettivo (righe, colonne).\n",
        "\n",
        "    Returns:\n",
        "        np.ndarray: Array NumPy uniforme con tutti i segmenti della stessa forma.\n",
        "    \"\"\"\n",
        "    padded_segments = []\n",
        "    for segment in segments:\n",
        "        # Se il segmento è più lungo, lo tronchiamo\n",
        "        if segment.shape[0] > target_shape[0]:\n",
        "            segment = segment[:target_shape[0], :]\n",
        "        # Se il segmento è più corto, lo riempiamo di zeri\n",
        "        elif segment.shape[0] < target_shape[0]:\n",
        "            padding = np.zeros((target_shape[0] - segment.shape[0], segment.shape[1]))\n",
        "            segment = np.vstack((segment, padding))\n",
        "        # Aggiungiamo il segmento uniformato\n",
        "        padded_segments.append(segment)\n",
        "\n",
        "    return np.array(padded_segments)"
      ],
      "metadata": {
        "id": "wVXoicBIE74k"
      },
      "execution_count": null,
      "outputs": []
    },
    {
      "cell_type": "markdown",
      "source": [
        "## Funzione per il Training"
      ],
      "metadata": {
        "id": "aVvBM66XOWUT"
      }
    },
    {
      "cell_type": "code",
      "execution_count": 26,
      "metadata": {
        "id": "7Td_xbCkdGzf"
      },
      "outputs": [],
      "source": [
        "# 3.\n",
        "def building_and_training(segments_scaled_split):\n",
        "    # Uniformare i segmenti\n",
        "    target_shape = (200, segments_scaled_split[0].shape[1])  # 200 righe, numero colonne dal primo segmento\n",
        "    segments_padded = preprocess_and_pad_segments(segments_scaled_split, target_shape)\n",
        "\n",
        "    # Callback per visualizzare statistiche al termine dell'addestramento\n",
        "    class TrainingSummary(Callback):\n",
        "        def on_train_end(self, logs=None):\n",
        "            print(\"\\n--- Statistiche Finali ---\")\n",
        "            print(f\"Loss finale su training set: {logs['loss']:.4f}\")\n",
        "            if 'val_loss' in logs:\n",
        "                print(f\"Loss finale su validation set: {logs['val_loss']:.4f}\")\n",
        "\n",
        "    # Definisco l'input shape\n",
        "    input_shape = segments_scaled_split[0].shape  # Forma di un segmento\n",
        "\n",
        "    # Definisco la struttura dell'autoencoder\n",
        "    input_layer = Input(shape=input_shape)\n",
        "    x = Flatten()(input_layer)\n",
        "    x = Dense(256)(x)\n",
        "    x = LeakyReLU(alpha=0.1)(x)\n",
        "    x = BatchNormalization()(x)\n",
        "    x = Dropout(0.1)(x)  # Dropout 10%\n",
        "    x = Dense(128)(x)\n",
        "    x = LeakyReLU(alpha=0.1)(x)\n",
        "    x = BatchNormalization()(x)\n",
        "    x = Dropout(0.1)(x)  # Dropout 10%\n",
        "    encoded = Dense(64)(x)\n",
        "    encoded = LeakyReLU(alpha=0.1)(encoded)\n",
        "    x = Dense(128)(encoded)\n",
        "    x = LeakyReLU(alpha=0.1)(x)\n",
        "    x = BatchNormalization()(x)\n",
        "    x = Dropout(0.1)(x)  # Dropout 10%\n",
        "    x = Dense(256)(x)\n",
        "    x = LeakyReLU(alpha=0.1)(x)\n",
        "    x = BatchNormalization()(x)\n",
        "    x = Dropout(0.1)(x)  # Dropout 10%\n",
        "    x = Dense(np.prod(input_shape), activation=\"sigmoid\")(x)\n",
        "    x = BatchNormalization()(x)\n",
        "    decoded = Reshape(input_shape)(x)\n",
        "\n",
        "    # Creo il Modello\n",
        "    autoencoder = Model(inputs=input_layer, outputs=decoded)\n",
        "    autoencoder.compile(optimizer=Adam(learning_rate=0.001), loss=\"mse\")\n",
        "\n",
        "    early_stopping = EarlyStopping(\n",
        "        monitor=\"val_loss\", patience=10, restore_best_weights=True\n",
        "    )\n",
        "\n",
        "    # Addestramento dell'autoencoder sui dati \"normali\", senza anomalie\n",
        "    history = autoencoder.fit(\n",
        "        np.array(segments_scaled_split), np.array(segments_scaled_split),\n",
        "        epochs=100, batch_size=16, shuffle=True, validation_split=0.1,\n",
        "        callbacks=[TrainingSummary(), early_stopping]\n",
        "    )\n",
        "\n",
        "    # Stampo statistiche finali direttamente dal dizionario `history.history`\n",
        "\n",
        "    print(\"\\n--- Risultati Finali ---\")\n",
        "    print(f\"Training Loss: {history.history['loss'][-1]:.4f}\")\n",
        "    print(f\"Validation Loss: {history.history['val_loss'][-1]:.4f}\")\n",
        "\n",
        "    return autoencoder\n"
      ]
    },
    {
      "cell_type": "markdown",
      "source": [
        "## Calcolo dell'Errore di Ricostruzione"
      ],
      "metadata": {
        "id": "ktx1OP-vOZLU"
      }
    },
    {
      "cell_type": "code",
      "source": [
        "# 4.\n",
        "def get_rebuilding_error(autoencoder, segments_scaled_split):\n",
        "    # Ricostruzione dei dati di addestramento\n",
        "    reconstructed_train = autoencoder.predict(np.array(segments_scaled_split))\n",
        "    mse_train = np.mean(np.power(segments_scaled_split - reconstructed_train, 2), axis=(1, 2))\n",
        "\n",
        "    # Imposto il threshold al 95° percentile dell'errore\n",
        "    threshold = np.percentile(mse_train, 95)\n",
        "    print(\"Soglia di errore di ricostruzione:\", threshold)\n",
        "\n",
        "    return threshold"
      ],
      "metadata": {
        "id": "ConTUI9z3SjH"
      },
      "execution_count": 27,
      "outputs": []
    },
    {
      "cell_type": "markdown",
      "source": [
        "## Test del modello"
      ],
      "metadata": {
        "id": "QD4wdBMbOkqW"
      }
    },
    {
      "cell_type": "code",
      "source": [
        "# 5.\n",
        "def testing(path, scaler, autoencoder, threshold):\n",
        "    # Carico il CSV con diversa codifica\n",
        "    df_anomalous = pd.read_csv(path, sep='\\t', encoding='utf-16')\n",
        "    df_anomalous = df_anomalous.drop(columns=[\"Label\"])\n",
        "\n",
        "    df_anomalous['Time'] = pd.to_datetime(df_anomalous['Time'])\n",
        "    df_anomalous = df_anomalous.sort_values(by='Time')\n",
        "\n",
        "    # Segmentazione del file di test in blocchi di tot minuti\n",
        "    test_segments = []\n",
        "    start_time = df_anomalous['Time'].iloc[0]\n",
        "\n",
        "    # Definisco la finestra di tot minuti\n",
        "    window_duration = pd.Timedelta(minutes=1)\n",
        "\n",
        "    while start_time < df_anomalous['Time'].iloc[-1]:\n",
        "        end_time = start_time + window_duration\n",
        "        segment = df_anomalous[(df_anomalous['Time'] >= start_time) & (df_anomalous['Time'] < end_time)]\n",
        "        if len(segment) > 0:\n",
        "            test_segments.append(segment.drop(columns=['Time']).values)\n",
        "        start_time = end_time\n",
        "\n",
        "    # Normalizzazione dei segmenti di test usando lo scaler già addestrato\n",
        "    test_segments_scaled = [scaler.transform(segment) for segment in test_segments]\n",
        "\n",
        "    # Mantengo solo i segmenti che hanno lunghezza pari a 60 o 120 in base a se divido in intervalli di tot minuti.\n",
        "    uniform_segments = [segment for segment in test_segments_scaled if len(segment) == 60]\n",
        "\n",
        "    for seg in uniform_segments:\n",
        "        print(seg)\n",
        "\n",
        "    # Ricostruzione e calcolo dell'errore per ogni segmento di test\n",
        "    reconstructed_test = autoencoder.predict(np.array(uniform_segments))\n",
        "    mse_test = np.mean(np.power(uniform_segments - reconstructed_test, 2), axis=(1, 2))\n",
        "\n",
        "    # Identificazione delle anomalie nei blocchi di test\n",
        "    anomalies = mse_test > threshold\n",
        "    print(\"Numero di blocchi anomali rilevati:\", np.sum(anomalies))\n",
        "    print(f\"Blocchi anomali: {anomalies}\")"
      ],
      "metadata": {
        "id": "xYe-meCk_N2h"
      },
      "execution_count": 28,
      "outputs": []
    },
    {
      "cell_type": "markdown",
      "source": [
        "## Esecuzione del processo"
      ],
      "metadata": {
        "id": "lUWWcpS9Opf6"
      }
    },
    {
      "cell_type": "code",
      "source": [
        "segments = preprocess_network_data_50(\"normal_reduced_0005.csv\")\n",
        "print(\"Numero di segmenti:\", len(segments))"
      ],
      "metadata": {
        "colab": {
          "base_uri": "https://localhost:8080/"
        },
        "id": "FUVIILWyQvMv",
        "outputId": "93664ae4-1e8f-4517-a447-3ff6161c0a02"
      },
      "execution_count": 30,
      "outputs": [
        {
          "output_type": "stream",
          "name": "stdout",
          "text": [
            "Processing segment 1 with 50 rows\n",
            "Processing segment 2 with 50 rows\n",
            "Processing segment 3 with 50 rows\n",
            "Processing segment 4 with 50 rows\n",
            "Numero di segmenti: 4\n"
          ]
        }
      ]
    },
    {
      "cell_type": "code",
      "source": [
        "autoencoder = building_and_training(segments)"
      ],
      "metadata": {
        "id": "_KeeyAizdmU1",
        "outputId": "7f2e5b2c-1b4b-409d-98d3-cba5044a156e",
        "colab": {
          "base_uri": "https://localhost:8080/",
          "height": 329
        }
      },
      "execution_count": null,
      "outputs": [
        {
          "output_type": "stream",
          "name": "stderr",
          "text": [
            "/usr/local/lib/python3.10/dist-packages/keras/src/layers/activations/leaky_relu.py:41: UserWarning: Argument `alpha` is deprecated. Use `negative_slope` instead.\n",
            "  warnings.warn(\n"
          ]
        },
        {
          "output_type": "error",
          "ename": "ValueError",
          "evalue": "setting an array element with a sequence. The requested array has an inhomogeneous shape after 1 dimensions. The detected shape was (6,) + inhomogeneous part.",
          "traceback": [
            "\u001b[0;31m---------------------------------------------------------------------------\u001b[0m",
            "\u001b[0;31mValueError\u001b[0m                                Traceback (most recent call last)",
            "\u001b[0;32m<ipython-input-35-1c8f132b30d4>\u001b[0m in \u001b[0;36m<cell line: 1>\u001b[0;34m()\u001b[0m\n\u001b[0;32m----> 1\u001b[0;31m \u001b[0mautoencoder\u001b[0m \u001b[0;34m=\u001b[0m \u001b[0mbuilding_and_training\u001b[0m\u001b[0;34m(\u001b[0m\u001b[0msegments\u001b[0m\u001b[0;34m)\u001b[0m\u001b[0;34m\u001b[0m\u001b[0;34m\u001b[0m\u001b[0m\n\u001b[0m",
            "\u001b[0;32m<ipython-input-4-e4bdcd2016ef>\u001b[0m in \u001b[0;36mbuilding_and_training\u001b[0;34m(segments_scaled_split)\u001b[0m\n\u001b[1;32m     47\u001b[0m     \u001b[0;31m# Addestramento dell'autoencoder sui dati \"normali\", senza anomalie\u001b[0m\u001b[0;34m\u001b[0m\u001b[0;34m\u001b[0m\u001b[0m\n\u001b[1;32m     48\u001b[0m     history = autoencoder.fit(\n\u001b[0;32m---> 49\u001b[0;31m         \u001b[0mnp\u001b[0m\u001b[0;34m.\u001b[0m\u001b[0marray\u001b[0m\u001b[0;34m(\u001b[0m\u001b[0msegments_scaled_split\u001b[0m\u001b[0;34m)\u001b[0m\u001b[0;34m,\u001b[0m \u001b[0mnp\u001b[0m\u001b[0;34m.\u001b[0m\u001b[0marray\u001b[0m\u001b[0;34m(\u001b[0m\u001b[0msegments_scaled_split\u001b[0m\u001b[0;34m)\u001b[0m\u001b[0;34m,\u001b[0m\u001b[0;34m\u001b[0m\u001b[0;34m\u001b[0m\u001b[0m\n\u001b[0m\u001b[1;32m     50\u001b[0m         \u001b[0mepochs\u001b[0m\u001b[0;34m=\u001b[0m\u001b[0;36m100\u001b[0m\u001b[0;34m,\u001b[0m \u001b[0mbatch_size\u001b[0m\u001b[0;34m=\u001b[0m\u001b[0;36m16\u001b[0m\u001b[0;34m,\u001b[0m \u001b[0mshuffle\u001b[0m\u001b[0;34m=\u001b[0m\u001b[0;32mTrue\u001b[0m\u001b[0;34m,\u001b[0m \u001b[0mvalidation_split\u001b[0m\u001b[0;34m=\u001b[0m\u001b[0;36m0.1\u001b[0m\u001b[0;34m,\u001b[0m\u001b[0;34m\u001b[0m\u001b[0;34m\u001b[0m\u001b[0m\n\u001b[1;32m     51\u001b[0m         \u001b[0mcallbacks\u001b[0m\u001b[0;34m=\u001b[0m\u001b[0;34m[\u001b[0m\u001b[0mTrainingSummary\u001b[0m\u001b[0;34m(\u001b[0m\u001b[0;34m)\u001b[0m\u001b[0;34m,\u001b[0m \u001b[0mearly_stopping\u001b[0m\u001b[0;34m]\u001b[0m\u001b[0;34m\u001b[0m\u001b[0;34m\u001b[0m\u001b[0m\n",
            "\u001b[0;31mValueError\u001b[0m: setting an array element with a sequence. The requested array has an inhomogeneous shape after 1 dimensions. The detected shape was (6,) + inhomogeneous part."
          ]
        }
      ]
    },
    {
      "cell_type": "code",
      "source": [
        "threshols = get_rebuilding_error(autoencoder, segments)"
      ],
      "metadata": {
        "id": "dDSj0Y0S-9Ri",
        "outputId": "d47409cd-f3e6-4b51-a395-2dcce828f360",
        "colab": {
          "base_uri": "https://localhost:8080/"
        }
      },
      "execution_count": null,
      "outputs": [
        {
          "output_type": "stream",
          "name": "stdout",
          "text": [
            "\u001b[1m1/1\u001b[0m \u001b[32m━━━━━━━━━━━━━━━━━━━━\u001b[0m\u001b[37m\u001b[0m \u001b[1m0s\u001b[0m 222ms/step\n",
            "Soglia di errore di ricostruzione: 0.18992139808024558\n"
          ]
        }
      ]
    },
    {
      "cell_type": "code",
      "source": [
        "testing(\"attack_1.csv\", scaler, autoencoder, threshols)"
      ],
      "metadata": {
        "id": "ZFa0kfI8_Ubp"
      },
      "execution_count": null,
      "outputs": []
    }
  ]
}