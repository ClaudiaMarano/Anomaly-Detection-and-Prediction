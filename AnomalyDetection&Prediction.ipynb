{
  "nbformat": 4,
  "nbformat_minor": 0,
  "metadata": {
    "colab": {
      "provenance": [],
      "toc_visible": true,
      "authorship_tag": "ABX9TyMcE0lfD6rB3B36/7YOL4Y8",
      "include_colab_link": true
    },
    "kernelspec": {
      "name": "python3",
      "display_name": "Python 3"
    },
    "language_info": {
      "name": "python"
    }
  },
  "cells": [
    {
      "cell_type": "markdown",
      "metadata": {
        "id": "view-in-github",
        "colab_type": "text"
      },
      "source": [
        "<a href=\"https://colab.research.google.com/github/ClaudiaMarano/Anomaly-Detection-and-Prediction/blob/main/AnomalyDetection%26Prediction.ipynb\" target=\"_parent\"><img src=\"https://colab.research.google.com/assets/colab-badge.svg\" alt=\"Open In Colab\"/></a>"
      ]
    },
    {
      "cell_type": "markdown",
      "source": [
        "# **Time Series per Anomaly Detection e Prediction**"
      ],
      "metadata": {
        "id": "Rd5fnya73OTj"
      }
    },
    {
      "cell_type": "markdown",
      "source": [
        "## Time Series Prediction"
      ],
      "metadata": {
        "id": "PM3ogr6O5VbX"
      }
    },
    {
      "cell_type": "markdown",
      "source": [
        "## Time Series Detection"
      ],
      "metadata": {
        "id": "jtrH-ZSj6UZ3"
      }
    }
  ]
}