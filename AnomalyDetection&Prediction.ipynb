{
  "nbformat": 4,
  "nbformat_minor": 0,
  "metadata": {
    "colab": {
      "provenance": [],
      "toc_visible": true,
      "gpuType": "T4",
      "authorship_tag": "ABX9TyNeyPA90cG+Ywr5yGgxTyLQ",
      "include_colab_link": true
    },
    "kernelspec": {
      "name": "python3",
      "display_name": "Python 3"
    },
    "language_info": {
      "name": "python"
    },
    "accelerator": "GPU"
  },
  "cells": [
    {
      "cell_type": "markdown",
      "metadata": {
        "id": "view-in-github",
        "colab_type": "text"
      },
      "source": [
        "<a href=\"https://colab.research.google.com/github/ClaudiaMarano/Anomaly-Detection-and-Prediction/blob/main/AnomalyDetection%26Prediction.ipynb\" target=\"_parent\"><img src=\"https://colab.research.google.com/assets/colab-badge.svg\" alt=\"Open In Colab\"/></a>"
      ]
    },
    {
      "cell_type": "markdown",
      "source": [
        "# **Data Preprocessing**"
      ],
      "metadata": {
        "id": "sEWWGXgQ_21V"
      }
    },
    {
      "cell_type": "markdown",
      "source": [
        "Per prima cosa, vengono importati i file del dataset in esame dal Drive personale. Per poter effettuare questo passo, i file devono essere presenti nel Drive."
      ],
      "metadata": {
        "id": "zEUhmku_vYRu"
      }
    },
    {
      "cell_type": "code",
      "source": [
        "# Importazione dei file da Google Drive\n",
        "from google.colab import drive\n",
        "drive.mount('/content/drive')"
      ],
      "metadata": {
        "id": "xBQdKg8HvMm_"
      },
      "execution_count": null,
      "outputs": []
    },
    {
      "cell_type": "markdown",
      "source": [
        "Inizializziamo il Setup."
      ],
      "metadata": {
        "id": "VQ2U8HGKv1pM"
      }
    },
    {
      "cell_type": "code",
      "source": [
        "# Importazione delle librerie"
      ],
      "metadata": {
        "id": "--WZStGjwAdD"
      },
      "execution_count": null,
      "outputs": []
    },
    {
      "cell_type": "markdown",
      "source": [
        "## Sincronizzazione Temporale"
      ],
      "metadata": {
        "id": "oWbxk30P-buy"
      }
    },
    {
      "cell_type": "markdown",
      "source": [
        "Assicurarsi che i dati di rete e del processo fisico siano sincronizzati temporalmente:\n",
        "1.  Convertire i timestamp in un formato uniforme.\n",
        "\n",
        "  **N.B.**\n",
        "  - Nel processo fisico i timestamp hanno la forma: 09/04/2021  18:23:28\n",
        "\n",
        "  - Nei dati di rete i timestamp hanno la forma: 2021-04-09 18:23:28.385003\n",
        "\n",
        "  Bisogna riportare il tempo nello stesso formato. Quindi prima operiamo sui dati di rete per fermare il timestamp ai secondi, eliminando il resto.\n",
        "2.  Unificare la frequenza di campionamento: secondi o minuti.\n",
        "3. Utilizzare finestre temporali comuni per aggregare i dati provenienti da diverse fonti."
      ],
      "metadata": {
        "id": "aw7SrzAe-kmE"
      }
    },
    {
      "cell_type": "markdown",
      "source": [
        "## Fusione dei dati"
      ],
      "metadata": {
        "id": "vOheax15TVp9"
      }
    },
    {
      "cell_type": "markdown",
      "source": [
        "Combina i dati di rete e del processo fisico in un unico dataset multivariato. Questo ti permetterà di catturare le interazioni tra traffico di rete e comportamenti del processo fisico. Esempio: Per ogni finestra temporale, aggrega metriche di rete (es. numero di pacchetti, dimensione media dei pacchetti) e metriche del processo fisico (es. temperatura, utilizzo CPU)."
      ],
      "metadata": {
        "id": "QCrdS4uTTcWC"
      }
    },
    {
      "cell_type": "markdown",
      "source": [
        "## Data Cleaning"
      ],
      "metadata": {
        "id": "XGqfezcC9s3T"
      }
    },
    {
      "cell_type": "markdown",
      "source": [
        "1. Rimozione dei duplicati (Se il processo è ciclico, elimino i cicli che si ripetono?)\n",
        "2. Gestione dei valori mancanti: imputazione/rimozione"
      ],
      "metadata": {
        "id": "l0YCXg4_-JKq"
      }
    },
    {
      "cell_type": "markdown",
      "source": [
        "## Feature Engineering"
      ],
      "metadata": {
        "id": "k8SyDeZC-qno"
      }
    },
    {
      "cell_type": "markdown",
      "source": [
        "### Feature Extraction"
      ],
      "metadata": {
        "id": "VrJfOVIXUSw5"
      }
    },
    {
      "cell_type": "markdown",
      "source": [
        "1. *Creazione di Feature Temporali*:\n",
        "- Rolling Statistics: Calcola medie mobili, mediana mobile, deviazione standard mobile, etc., su finestre temporali precedenti.\n",
        "- Differenze: Calcola differenze tra valori consecutivi per catturare variazioni rapide.\n",
        "2. *Estrazione di Feature dai Dati di Rete:*\n",
        "*   Numero di pacchetti al secondo.\n",
        "*   Dimensione media dei pacchetti.\n",
        "*   Protocolli più utilizzati.\n",
        "*   Tassi di errore o pacchetti persi.\n",
        "\n",
        "3. *Estrazione di Feature dai Dati Fisici:*\n",
        "- Valori di temperatura, utilizzo CPU, memoria, ecc.\n",
        "- Indicatori booleani che rappresentano stati particolari del processo.\n",
        "\n",
        "\n"
      ],
      "metadata": {
        "id": "qq4MEGYMUbV2"
      }
    },
    {
      "cell_type": "markdown",
      "source": [
        "### Codifica variabili categoriche"
      ],
      "metadata": {
        "id": "oJGt5aDdVLGx"
      }
    },
    {
      "cell_type": "markdown",
      "source": [
        "Trasforma le variabili categoriche (es. tipo di protocollo, azioni Modbus) in formati numerici utilizzando One-Hot Encoding o Label Encoding."
      ],
      "metadata": {
        "id": "CzuJYVgjVVCL"
      }
    },
    {
      "cell_type": "markdown",
      "source": [
        "## Normalizzazione e Standardizzazione"
      ],
      "metadata": {
        "id": "Zt1ysU3h-TWS"
      }
    },
    {
      "cell_type": "markdown",
      "source": [
        "Scalare le variabili per garantire che abbiano la stessa portata, migliorando la performance degli algoritmi:\n",
        "- Min-max Scaling\n",
        "- Standardizzazione"
      ],
      "metadata": {
        "id": "KsE1tnIcCG5z"
      }
    },
    {
      "cell_type": "markdown",
      "source": [
        "# **Feature Selection**"
      ],
      "metadata": {
        "id": "ZcIT-hSK_P8n"
      }
    },
    {
      "cell_type": "markdown",
      "source": [
        "Utilizzare tecniche come l'analisi della correlazione, l'importanza delle feature tramite algoritmi di machine learning, o metodi basati su informazioni per selezionare le variabili più significative."
      ],
      "metadata": {
        "id": "2fVRMBybB8vo"
      }
    },
    {
      "cell_type": "markdown",
      "source": [
        "# **Time Series per Anomaly Detection e Prediction**"
      ],
      "metadata": {
        "id": "Rd5fnya73OTj"
      }
    },
    {
      "cell_type": "markdown",
      "source": [
        "Consideriamo Time Series Multivariate."
      ],
      "metadata": {
        "id": "L0qkPIUH-x1G"
      }
    },
    {
      "cell_type": "markdown",
      "source": [
        "## Time Series Detection"
      ],
      "metadata": {
        "id": "jtrH-ZSj6UZ3"
      }
    },
    {
      "cell_type": "markdown",
      "source": [],
      "metadata": {
        "id": "Ls8VctIh-PJg"
      }
    },
    {
      "cell_type": "markdown",
      "source": [
        "## Time Series Prediction"
      ],
      "metadata": {
        "id": "PM3ogr6O5VbX"
      }
    },
    {
      "cell_type": "markdown",
      "source": [
        "Step da seguire:\n",
        "1. Setup (installa librerie e dipendenze)\n",
        "2. Importo il dataset e lo visualizzo\n",
        "3. Plotto l'evoluzione delle feature nel tempo\n",
        "4. Printo le statistiche del dataset (Inspect e Cleanup)\n"
      ],
      "metadata": {
        "id": "atX1WtQbc1rE"
      }
    },
    {
      "cell_type": "markdown",
      "source": [
        "# **Dense NN per Anomaly Detection e Prediction**"
      ],
      "metadata": {
        "id": "wTf3me6KBS-Q"
      }
    },
    {
      "cell_type": "markdown",
      "source": [
        "## Dense NN Detection"
      ],
      "metadata": {
        "id": "Zh-RxJAKBcSg"
      }
    },
    {
      "cell_type": "markdown",
      "source": [
        "## Dense NN Prediction"
      ],
      "metadata": {
        "id": "cSblzFkRBhIQ"
      }
    }
  ]
}